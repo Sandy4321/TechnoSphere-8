{
 "cells": [
  {
   "cell_type": "markdown",
   "metadata": {},
   "source": [
    "# Алгоритмы интеллектуальной обработки больших объемов данных\n",
    "# Котелевский Никита\n",
    "## Домашнее задание №4 - Метод k-средних, предобработка признаков\n"
   ]
  },
  {
   "cell_type": "markdown",
   "metadata": {},
   "source": [
    "###### <hr\\>\n",
    "**Общая информация**\n",
    "\n",
    "**Срок сдачи:** 25 апреля 2018, 06:00 <br\\>\n",
    "**Штраф за опоздание:** -2 балла после 06:00 25 апреля, -4 баллов после 06:00 2 мая, -6 баллов после 06:00 9 мая\n",
    "\n",
    "При отправлении ДЗ указывайте фамилию в названии файла<br\\>\n",
    "\n",
    "Используйте данный Ipython Notebook при оформлении домашнего задания.\n",
    "\n",
    "**Штрафные баллы:**\n",
    "\n",
    "1. Невыполнение PEP8 -1 балл\n",
    "2. Отсутствие фамилии в имени скрипта (скрипт должен называться по аналогии со stroykova_hw4.ipynb) -1 балл\n",
    "3. Все строчки должны быть выполнены. Нужно, чтобы output команды можно было увидеть уже в git'е. В противном случае -1 балл\n",
    "4. При оформлении ДЗ нужно пользоваться данным файлом в качестве шаблона. Не нужно удалять и видоизменять написанный код и текст. В противном случае -1 балл\n",
    "<hr\\>"
   ]
  },
  {
   "cell_type": "code",
   "execution_count": 1,
   "metadata": {},
   "outputs": [],
   "source": [
    "import pandas as pd\n",
    "import numpy as np\n",
    "import matplotlib.pyplot as plt\n",
    "\n",
    "%matplotlib inline\n",
    "\n",
    "plt.style.use('ggplot')\n",
    "plt.rcParams['figure.figsize'] = (12, 5)\n",
    "\n",
    "# %load_ext pycodestyle_magic"
   ]
  },
  {
   "cell_type": "markdown",
   "metadata": {},
   "source": [
    "# Имплементация K-means\n",
    "\n",
    "Пользуясь наработками выше, имплементируйте метод k-means.  \n",
    "При инициализации необходимо задавать количество кластеров, функцию расстояния между кластерами (для оригинального k-means - евклидово расстояние) и начальное состояние генератора случайных чисел.\n",
    "\n",
    "После обучения, среди атрибутов класса `Kmeans` должны появится\n",
    "* Метки кластеров для объектов\n",
    "* Координаты центройдов кластеров\n",
    "\n",
    "k-means - это алгоритм **кластеризации**, а не классификации, а посему метод `.predict()` в нем фактически не нужен, но он может возвращать метки ближайшего кластера для объектов."
   ]
  },
  {
   "cell_type": "markdown",
   "metadata": {},
   "source": [
    "###### Задание 1 (2 баллов)\n",
    "Имплементируйте метод k-means. Задание считается выполненным, если Ваша реализация работает быстрее реализации из sklearn.\n",
    "\n",
    "Теория для выполнения задания 2 и 3 остаётся на самостоятельное изучение. Теории немного и она совсем простая.\n",
    "\n",
    "###### Задание 2 (2 балла)\n",
    "Имплементируйте класс MiniBatchKMeans, который является классом наследником Kmeans.\n",
    "\n",
    "###### Задание 3 (2 балла)\n",
    "Превратите k-means в k-means++. Для этого нужно реализовать метод в классе Kmeans, который будет инициализировать более \"хорошие\" значения центроидов. Чтобы использовался метод k-means++, в параметр init необходимо передать строковое значение 'k-means' (по умолчанию 'random').\n",
    "\n",
    "###### Задание 4 (2 балла)\n",
    "В пункте \"Проверка корректности метода\" нужно нарисовать графики, которые показывают зависимость времени выполнения алгоритма от количества сэмплов. Графики должны быть  нарисованы для различных комбинаций реализаций алгоритма (k-means, k-means++, k-means с MiniBatchKMeans, k-means++ с MiniBatchKMeans). График достаточно построить на 5-10 точках.\n",
    "\n",
    "###### Задание 5 (2 балла)\n",
    "В пункте \"Применение K-means на реальных данных\" нужно сравнить различные реализации k-means (k-means, k-means++, k-means с MiniBatchKMeans, k-means++ с MiniBatchKMeans). После чего написать вывод, в котором должно быть объяснение того, почему один алгоритм оказался лучше остальных или почему не было выявлено лучшего алгоритма."
   ]
  },
  {
   "cell_type": "code",
   "execution_count": 2,
   "metadata": {},
   "outputs": [],
   "source": [
    "# %%pycodestyle\n",
    "\n",
    "\n",
    "class MyKmeans:\n",
    "\n",
    "    def __init__(self, k=2, metric='euclidean', max_iter=1000, random_state=None, init='random'):\n",
    "        \"\"\"\n",
    "        Инициализация метода\n",
    "        :k - количество кластеров\n",
    "        :metric - функция расстояния между объектами\n",
    "        :max_iter - максиальное количество итераций\n",
    "        :random_state - seed для инициализации генератора случайных чисел\n",
    "        \"\"\"\n",
    "\n",
    "        self.k = k\n",
    "        self.random_state = random_state\n",
    "        self.metric = metric\n",
    "        self.max_iter = max_iter\n",
    "        self.init = init\n",
    "\n",
    "    def metric(self, X, Y):\n",
    "        if self.metric == 'euclidean':\n",
    "            return np.sqrt(((X - Y) ** 2).sum(axis=1))\n",
    "\n",
    "    def fit_core(self, X, XX, y):\n",
    "        YY = np.sum(self.centroids ** 2, axis=1, dtype=float)\n",
    "        for i in range(self.max_iter):\n",
    "            xy_dist = X.dot(self.centroids.T)\n",
    "            dist_sqr = -2. * xy_dist + YY + XX.reshape(-1, 1)\n",
    "            dist_sqr[dist_sqr < 0] = 0\n",
    "            dist = np.sqrt(dist_sqr)\n",
    "            self.labels = np.argmin(dist, axis=1)\n",
    "            self.centroids = np.zeros_like(self.centroids, dtype=float)\n",
    "            for j in range(self.k):\n",
    "                m = X[self.labels == j]\n",
    "                self.centroids[j] = np.sum(m, axis=0) / m.shape[0]\n",
    "\n",
    "    def fit(self, X, y=None):\n",
    "        \"\"\"\n",
    "        Процедура обучения\n",
    "        \"\"\"\n",
    "        # Инициализация генератора случайных чисел\n",
    "        np.random.seed(self.random_state)\n",
    "        # Массив с метками кластеров для каждого объекта из X\n",
    "        self.labels = np.empty(X.shape[0], dtype=int)\n",
    "        # Массив с центройдами кластеров\n",
    "        self.centroids = np.empty((self.k, X.shape[1]))\n",
    "        # выбираем центроиды\n",
    "        XX = np.sum(X ** 2, axis=1, dtype=float)\n",
    "        if self.init == 'random':\n",
    "            self.centroids = X[np.random.choice(X.shape[0], self.k, replace=False)]\n",
    "\n",
    "\n",
    "        elif self.init == 'k-means':\n",
    "            centroids = X[np.random.randint(low=0, high=X.shape[0])]\n",
    "            centroids = centroids.reshape(-1, X.shape[1])\n",
    "            k_cur = 1\n",
    "            while (k_cur < self.k):\n",
    "                YY = np.sum(centroids ** 2, axis=1, dtype=float)\n",
    "                xy_dist = X.dot(centroids.T)\n",
    "                dist_sqr = -2. * xy_dist + YY + XX.reshape(-1, 1)\n",
    "                tot_sum = np.sum(dist_sqr, axis=1)\n",
    "                norm = np.sum(tot_sum)\n",
    "                cumsum = 0\n",
    "                cr = np.random.uniform() * norm\n",
    "                i = 0\n",
    "                cumsum += tot_sum[i]\n",
    "                while (cumsum < cr):\n",
    "                    i += 1\n",
    "                    cumsum += tot_sum[i]\n",
    "                centroids = np.vstack((centroids, X[i]))\n",
    "                k_cur += 1\n",
    "            self.centroids = centroids\n",
    "\n",
    "        self.fit_core(X, XX, y=None)  # общее для алгоритмов ядро\n",
    "        return self\n",
    "\n",
    "    def predict(self, X, y=None):\n",
    "        \"\"\"\n",
    "        Процедура предсказания кластера\n",
    "        \n",
    "        Возвращает метку ближайшего кластера для каждого объекта\n",
    "        \"\"\"\n",
    "        labels = np.zeros(X.shape[0], dtype=int)\n",
    "        XX = ((X * 1.) ** 2).sum(axis=1)\n",
    "        YY = ((self.centroids * 1.) ** 2).sum(axis=1)\n",
    "        xy_dist = X.dot(self.centroids.T)\n",
    "        dist_sqr = -2. * xy_dist + YY + XX.reshape(-1, 1)\n",
    "        dist_sqr[dist_sqr < 0] = 0\n",
    "        dist = np.sqrt(dist_sqr * 1.)\n",
    "        labels = np.argmin(dist, axis=1)\n",
    "        return labels\n",
    "\n",
    "\n",
    "class MiniBatchKMeans(MyKmeans):\n",
    "\n",
    "    def __init__(self, k=2, metric='euclidean', max_iter=1000,\n",
    "                 random_state=None, init='random', b=10):\n",
    "        self.k = k\n",
    "        self.random_state = random_state\n",
    "        self.metric = metric\n",
    "        self.max_iter = max_iter\n",
    "        self.init = init\n",
    "        self.b = b\n",
    "\n",
    "    def fit_core(self, X, XX, y):\n",
    "        YY = np.sum(self.centroids ** 2, axis=1, dtype=float)\n",
    "        for i in range(self.max_iter):\n",
    "            xy_dist = X.dot(self.centroids.T)\n",
    "            dist_sqr = -2. * xy_dist + YY + XX.reshape(-1, 1)\n",
    "            dist_sqr[dist_sqr < 0] = 0\n",
    "            dist = np.sqrt(dist_sqr)\n",
    "            self.labels = np.argmin(dist, axis=1)\n",
    "            self.centroids = np.zeros_like(self.centroids, dtype=float)\n",
    "            for j in range(self.k):\n",
    "                m = X[self.labels == j]\n",
    "                self.centroids[j] = np.sum(m, axis=0) / m.shape[0]\n",
    "\n",
    "    def fit(self, X_f, y=None):\n",
    "        \"\"\"\n",
    "        Процедура обучения k-means-minibatch\n",
    "        \"\"\"\n",
    "        # Инициализация генератора случайных чисел\n",
    "        np.random.seed(self.random_state)\n",
    "        self.labels = np.empty(self.b, dtype=int)\n",
    "        self.centroids = np.empty((self.k, X_f.shape[1]))\n",
    "\n",
    "        X = X_f[np.random.choice(X_f.shape[0], self.b, replace=False)]\n",
    "        XX = (X ** 2).sum(axis=1, dtype=float)\n",
    "        if self.init == 'random':\n",
    "            self.centroids = X[np.random.choice(X.shape[0], self.k, replace=False)]\n",
    "\n",
    "        elif self.init == 'k-means':\n",
    "            centroids = X[np.random.randint(low=0, high=X.shape[0])]\n",
    "            centroids = centroids.reshape(-1, X.shape[1])\n",
    "            k_cur = 1\n",
    "            while (k_cur < self.k):\n",
    "                YY = ((centroids * 1.) ** 2).sum(axis=1)\n",
    "                xy_dist = X.dot(centroids.T)\n",
    "                dist_sqr = -2. * xy_dist + YY + XX.reshape(-1, 1)\n",
    "                tot_sum = np.sum(dist_sqr, axis=1)\n",
    "                norm = np.sum(tot_sum)\n",
    "                cumsum = 0\n",
    "                cr = np.random.uniform() * norm\n",
    "                i = 0\n",
    "                cumsum += tot_sum[i]\n",
    "                while (cumsum < cr):\n",
    "                    i += 1\n",
    "                    cumsum += tot_sum[i]\n",
    "                centroids = np.vstack((centroids, X[i]))\n",
    "                k_cur += 1\n",
    "            self.centroids = centroids\n",
    "        self.fit_core(X, XX, y=None)\n",
    "        return self\n",
    "\n",
    "    def predict(self, X, y=None):\n",
    "        \"\"\"\n",
    "        Процедура предсказания кластера\n",
    "        \n",
    "        Возвращает метку ближайшего кластера для каждого объекта\n",
    "        \"\"\"\n",
    "        labels = np.zeros(X.shape[0], dtype=int)\n",
    "        XX = ((X * 1.) ** 2).sum(axis=1)\n",
    "        YY = ((self.centroids * 1.) ** 2).sum(axis=1)\n",
    "        xy_dist = X.dot(self.centroids.T)\n",
    "        dist_sqr = -2. * xy_dist + YY + XX.reshape(-1, 1)\n",
    "        dist_sqr[dist_sqr < 0] = 0\n",
    "        dist = np.sqrt(dist_sqr * 1.)\n",
    "        labels = np.argmin(dist, axis=1)\n",
    "        return labels"
   ]
  },
  {
   "cell_type": "markdown",
   "metadata": {},
   "source": [
    "### Проверка корректности метода\n",
    "\n",
    "Перед тем как применять алгоритм на реальных данных, нужно испытать его на простых \"игрушечных\" данных.\n",
    "\n",
    "Если алгоритм реализован правильно, то метод должен идеально разбивать на 3 кластера данные ниже. Проверьте это.\n",
    "\n",
    "ВНИМАНИЕ! Проверка должна быть осуществлена на всех реализациях, иначе реализация не будет зачтена!"
   ]
  },
  {
   "cell_type": "code",
   "execution_count": 3,
   "metadata": {},
   "outputs": [],
   "source": [
    "from sklearn.datasets import make_blobs"
   ]
  },
  {
   "cell_type": "code",
   "execution_count": 4,
   "metadata": {},
   "outputs": [],
   "source": [
    "X, y = make_blobs(n_samples=100, n_features=2, centers=3, cluster_std=1,\n",
    "                  center_box=(-10.0, 10.0), shuffle=False, random_state=1234)"
   ]
  },
  {
   "cell_type": "code",
   "execution_count": 5,
   "metadata": {},
   "outputs": [
    {
     "data": {
      "text/plain": [
       "<matplotlib.collections.PathCollection at 0x7ffbb3aec150>"
      ]
     },
     "execution_count": 5,
     "metadata": {},
     "output_type": "execute_result"
    },
    {
     "data": {
      "image/png": "[encoded data removed]",
      "text/plain": [
       "<matplotlib.figure.Figure at 0x7ffbb3aec8d0>"
      ]
     },
     "metadata": {},
     "output_type": "display_data"
    }
   ],
   "source": [
    "plt.scatter(X[:, 0], X[:, 1], c=y)"
   ]
  },
  {
   "cell_type": "markdown",
   "metadata": {},
   "source": [
    "Проверьте Вашу имплементацию на простых данных (без этого пункта ДЗ не считается выполненным).   \n",
    "КОММЕНТАРИИ НЕ СТИРАТЬ!"
   ]
  },
  {
   "cell_type": "code",
   "execution_count": null,
   "metadata": {},
   "outputs": [],
   "source": []
  },
  {
   "cell_type": "code",
   "execution_count": 6,
   "metadata": {},
   "outputs": [],
   "source": [
    "## Работоспособность MyKmeans"
   ]
  },
  {
   "cell_type": "code",
   "execution_count": 9,
   "metadata": {},
   "outputs": [
    {
     "data": {
      "text/plain": [
       "array([1, 1, 1, 1, 1, 1, 1, 1, 1, 1, 1, 1, 1, 1, 1, 1, 1, 1, 1, 1, 1, 1,\n",
       "       1, 1, 1, 1, 1, 1, 1, 1, 1, 1, 1, 1, 0, 0, 0, 0, 0, 0, 0, 0, 0, 0,\n",
       "       0, 0, 0, 0, 0, 0, 0, 0, 0, 0, 0, 0, 0, 0, 0, 0, 0, 0, 0, 0, 0, 0,\n",
       "       0, 2, 2, 2, 2, 2, 2, 2, 2, 2, 2, 2, 2, 2, 2, 2, 2, 2, 2, 2, 2, 2,\n",
       "       2, 2, 2, 2, 2, 2, 2, 2, 2, 2, 2, 2])"
      ]
     },
     "execution_count": 9,
     "metadata": {},
     "output_type": "execute_result"
    }
   ],
   "source": [
    "my_clf = MyKmeans(k=3, max_iter=300)\n",
    "my_clf.fit(X)\n",
    "my_clf.predict(X)"
   ]
  },
  {
   "cell_type": "code",
   "execution_count": 10,
   "metadata": {},
   "outputs": [
    {
     "data": {
      "text/plain": [
       "<matplotlib.collections.PathCollection at 0x7ffbab092350>"
      ]
     },
     "execution_count": 10,
     "metadata": {},
     "output_type": "execute_result"
    },
    {
     "data": {
      "image/png": "[encoded data removed]",
      "text/plain": [
       "<matplotlib.figure.Figure at 0x7ffbab130890>"
      ]
     },
     "metadata": {},
     "output_type": "display_data"
    }
   ],
   "source": [
    "my = my_clf.predict(X)\n",
    "plt.scatter(X[:, 0], X[:, 1], c=my)\n",
    "plt.scatter(my_clf.centroids[:, 0], my_clf.centroids[:, 1])"
   ]
  },
  {
   "cell_type": "code",
   "execution_count": 11,
   "metadata": {},
   "outputs": [
    {
     "data": {
      "text/plain": [
       "array([0, 0, 0, 0, 0, 0, 0, 0, 0, 0, 0, 0, 0, 0, 0, 0, 0, 0, 0, 0, 0, 0,\n",
       "       0, 0, 0, 0, 0, 0, 0, 0, 0, 0, 0, 0, 2, 2, 2, 2, 2, 2, 2, 2, 2, 2,\n",
       "       2, 2, 2, 2, 2, 2, 2, 2, 2, 2, 2, 2, 2, 2, 2, 2, 2, 2, 2, 2, 2, 2,\n",
       "       2, 1, 1, 1, 1, 1, 1, 1, 1, 1, 1, 1, 1, 1, 1, 1, 1, 1, 1, 1, 1, 1,\n",
       "       1, 1, 1, 1, 1, 1, 1, 1, 1, 1, 1, 1])"
      ]
     },
     "execution_count": 11,
     "metadata": {},
     "output_type": "execute_result"
    }
   ],
   "source": [
    "## Работоспособность MyKmeans++\n",
    "my_clf = MyKmeans(k=3, init='k-means', max_iter=300)\n",
    "my_clf.fit(X)\n",
    "my_clf.predict(X)"
   ]
  },
  {
   "cell_type": "code",
   "execution_count": 12,
   "metadata": {},
   "outputs": [
    {
     "data": {
      "text/plain": [
       "<matplotlib.collections.PathCollection at 0x7ffbab01ee10>"
      ]
     },
     "execution_count": 12,
     "metadata": {},
     "output_type": "execute_result"
    },
    {
     "data": {
      "image/png": "[encoded data removed]",
      "text/plain": [
       "<matplotlib.figure.Figure at 0x7ffbab0cec90>"
      ]
     },
     "metadata": {},
     "output_type": "display_data"
    }
   ],
   "source": [
    "my = my_clf.predict(X)\n",
    "plt.scatter(X[:, 0], X[:, 1], c=my)\n",
    "plt.scatter(my_clf.centroids[:, 0], my_clf.centroids[:, 1])"
   ]
  },
  {
   "cell_type": "code",
   "execution_count": null,
   "metadata": {},
   "outputs": [],
   "source": []
  },
  {
   "cell_type": "code",
   "execution_count": 14,
   "metadata": {},
   "outputs": [
    {
     "data": {
      "text/plain": [
       "array([1, 1, 1, 1, 1, 1, 1, 1, 1, 1, 1, 1, 1, 1, 1, 1, 1, 1, 1, 1, 1, 1,\n",
       "       1, 1, 1, 1, 1, 1, 1, 1, 1, 1, 1, 1, 2, 2, 2, 2, 2, 2, 2, 2, 2, 2,\n",
       "       2, 2, 2, 2, 2, 2, 2, 2, 2, 2, 2, 2, 2, 2, 2, 2, 2, 2, 2, 2, 2, 2,\n",
       "       2, 0, 0, 0, 0, 0, 0, 0, 0, 0, 0, 0, 0, 0, 0, 0, 0, 0, 0, 0, 0, 0,\n",
       "       0, 0, 0, 0, 0, 0, 0, 0, 0, 0, 0, 0])"
      ]
     },
     "execution_count": 14,
     "metadata": {},
     "output_type": "execute_result"
    }
   ],
   "source": [
    "## Работоспособность MyKmeans с MiniBatchMyKmeans\n",
    "my_clf = MiniBatchKMeans(k=3, b=50, max_iter=100)\n",
    "my_clf.fit(X)\n",
    "my_clf.predict(X)"
   ]
  },
  {
   "cell_type": "code",
   "execution_count": 15,
   "metadata": {},
   "outputs": [
    {
     "data": {
      "text/plain": [
       "<matplotlib.collections.PathCollection at 0x7ffbaaf32650>"
      ]
     },
     "execution_count": 15,
     "metadata": {},
     "output_type": "execute_result"
    },
    {
     "data": {
      "image/png": "[encoded data removed]",
      "text/plain": [
       "<matplotlib.figure.Figure at 0x7ffbaafb6790>"
      ]
     },
     "metadata": {},
     "output_type": "display_data"
    }
   ],
   "source": [
    "my = my_clf.predict(X)\n",
    "plt.scatter(X[:, 0], X[:, 1], c=my)\n",
    "plt.scatter(my_clf.centroids[:, 0], my_clf.centroids[:, 1])"
   ]
  },
  {
   "cell_type": "code",
   "execution_count": null,
   "metadata": {},
   "outputs": [],
   "source": []
  },
  {
   "cell_type": "code",
   "execution_count": 16,
   "metadata": {},
   "outputs": [
    {
     "data": {
      "text/plain": [
       "array([1, 1, 1, 1, 1, 1, 1, 1, 1, 1, 1, 1, 1, 1, 1, 1, 1, 1, 1, 1, 1, 1,\n",
       "       1, 1, 1, 1, 1, 1, 1, 1, 1, 1, 1, 1, 2, 2, 2, 2, 2, 2, 2, 2, 2, 2,\n",
       "       2, 2, 2, 2, 2, 2, 2, 2, 2, 2, 2, 2, 2, 2, 2, 2, 2, 2, 2, 2, 2, 2,\n",
       "       2, 0, 0, 0, 0, 0, 0, 0, 0, 0, 0, 0, 0, 0, 0, 0, 0, 0, 0, 0, 0, 0,\n",
       "       0, 0, 0, 0, 0, 0, 0, 0, 0, 0, 0, 0])"
      ]
     },
     "execution_count": 16,
     "metadata": {},
     "output_type": "execute_result"
    }
   ],
   "source": [
    "## Работоспособность MyKmeans++ с MiniBatchMyKmeans\n",
    "my_clf = MiniBatchKMeans(k=3, b=50, max_iter=100, init='k-means')\n",
    "my_clf.fit(X)\n",
    "my_clf.predict(X)"
   ]
  },
  {
   "cell_type": "code",
   "execution_count": 17,
   "metadata": {},
   "outputs": [
    {
     "data": {
      "text/plain": [
       "<matplotlib.collections.PathCollection at 0x7ffbaaebc8d0>"
      ]
     },
     "execution_count": 17,
     "metadata": {},
     "output_type": "execute_result"
    },
    {
     "data": {
      "image/png": "[encoded data removed]",
      "text/plain": [
       "<matplotlib.figure.Figure at 0x7ffbaaf4a0d0>"
      ]
     },
     "metadata": {},
     "output_type": "display_data"
    }
   ],
   "source": [
    "my = my_clf.predict(X)\n",
    "plt.scatter(X[:, 0], X[:, 1], c=my)\n",
    "plt.scatter(my_clf.centroids[:, 0], my_clf.centroids[:, 1])"
   ]
  },
  {
   "cell_type": "code",
   "execution_count": null,
   "metadata": {},
   "outputs": [],
   "source": []
  },
  {
   "cell_type": "code",
   "execution_count": 18,
   "metadata": {},
   "outputs": [
    {
     "name": "stdout",
     "output_type": "stream",
     "text": [
      "CPU times: user 30.7 ms, sys: 4.39 ms, total: 35.1 ms\n",
      "Wall time: 45 ms\n"
     ]
    },
    {
     "data": {
      "text/plain": [
       "KMeans(algorithm='auto', copy_x=True, init='k-means++', max_iter=300,\n",
       "    n_clusters=3, n_init=10, n_jobs=1, precompute_distances='auto',\n",
       "    random_state=None, tol=0.0001, verbose=0)"
      ]
     },
     "execution_count": 18,
     "metadata": {},
     "output_type": "execute_result"
    }
   ],
   "source": [
    "## Время выполнения алгоритма Kmeans из sklearn\n",
    "from sklearn.cluster import KMeans\n",
    "clf = KMeans(n_clusters=3, max_iter=300)\n",
    "%time clf.fit(X)"
   ]
  },
  {
   "cell_type": "code",
   "execution_count": 19,
   "metadata": {},
   "outputs": [
    {
     "name": "stdout",
     "output_type": "stream",
     "text": [
      "CPU times: user 1.43 ms, sys: 0 ns, total: 1.43 ms\n",
      "Wall time: 3.7 ms\n"
     ]
    },
    {
     "data": {
      "text/plain": [
       "array([1, 1, 1, 1, 1, 1, 1, 1, 1, 1, 1, 1, 1, 1, 1, 1, 1, 1, 1, 1, 1, 1,\n",
       "       1, 1, 1, 1, 1, 1, 1, 1, 1, 1, 1, 1, 2, 2, 2, 2, 2, 2, 2, 2, 2, 2,\n",
       "       2, 2, 2, 2, 2, 2, 2, 2, 2, 2, 2, 2, 2, 2, 2, 2, 2, 2, 2, 2, 2, 2,\n",
       "       2, 0, 0, 0, 0, 0, 0, 0, 0, 0, 0, 0, 0, 0, 0, 0, 0, 0, 0, 0, 0, 0,\n",
       "       0, 0, 0, 0, 0, 0, 0, 0, 0, 0, 0, 0], dtype=int32)"
      ]
     },
     "execution_count": 19,
     "metadata": {},
     "output_type": "execute_result"
    }
   ],
   "source": [
    "% time clf.predict(X)"
   ]
  },
  {
   "cell_type": "code",
   "execution_count": null,
   "metadata": {},
   "outputs": [],
   "source": []
  },
  {
   "cell_type": "code",
   "execution_count": 20,
   "metadata": {},
   "outputs": [
    {
     "name": "stdout",
     "output_type": "stream",
     "text": [
      "CPU times: user 28.1 ms, sys: 0 ns, total: 28.1 ms\n",
      "Wall time: 27 ms\n"
     ]
    },
    {
     "data": {
      "text/plain": [
       "<__main__.MyKmeans instance at 0x7ffba5b809e0>"
      ]
     },
     "execution_count": 20,
     "metadata": {},
     "output_type": "execute_result"
    }
   ],
   "source": [
    "## Время выполнения алгоритма MyKmeans\n",
    "my_clf = MyKmeans(k=3, max_iter=300)\n",
    "% time my_clf.fit(X)"
   ]
  },
  {
   "cell_type": "code",
   "execution_count": 21,
   "metadata": {},
   "outputs": [
    {
     "name": "stdout",
     "output_type": "stream",
     "text": [
      "CPU times: user 265 µs, sys: 37 µs, total: 302 µs\n",
      "Wall time: 236 µs\n"
     ]
    },
    {
     "data": {
      "text/plain": [
       "array([2, 2, 2, 2, 2, 2, 2, 2, 2, 2, 2, 2, 2, 2, 2, 2, 2, 2, 2, 2, 2, 2,\n",
       "       2, 2, 2, 2, 2, 2, 2, 2, 2, 2, 2, 2, 0, 0, 0, 0, 0, 0, 0, 0, 0, 0,\n",
       "       0, 0, 0, 0, 0, 0, 0, 0, 0, 0, 0, 0, 0, 0, 0, 0, 0, 0, 0, 0, 0, 0,\n",
       "       0, 1, 1, 1, 1, 1, 1, 1, 1, 1, 1, 1, 1, 1, 1, 1, 1, 1, 1, 1, 1, 1,\n",
       "       1, 1, 1, 1, 1, 1, 1, 1, 1, 1, 1, 1])"
      ]
     },
     "execution_count": 21,
     "metadata": {},
     "output_type": "execute_result"
    }
   ],
   "source": [
    "%time my_clf.predict(X)"
   ]
  },
  {
   "cell_type": "code",
   "execution_count": null,
   "metadata": {},
   "outputs": [],
   "source": []
  },
  {
   "cell_type": "code",
   "execution_count": 23,
   "metadata": {},
   "outputs": [
    {
     "name": "stdout",
     "output_type": "stream",
     "text": [
      "CPU times: user 141 ms, sys: 0 ns, total: 141 ms\n",
      "Wall time: 140 ms\n"
     ]
    },
    {
     "data": {
      "text/plain": [
       "<__main__.MyKmeans instance at 0x7ffba5b845a8>"
      ]
     },
     "execution_count": 23,
     "metadata": {},
     "output_type": "execute_result"
    }
   ],
   "source": [
    "## Время выполнения алгоритма MyKmeans++\n",
    "my_clf = MyKmeans(k=3, init='k-means')\n",
    "%time my_clf.fit(X)"
   ]
  },
  {
   "cell_type": "code",
   "execution_count": 24,
   "metadata": {},
   "outputs": [
    {
     "name": "stdout",
     "output_type": "stream",
     "text": [
      "CPU times: user 0 ns, sys: 223 µs, total: 223 µs\n",
      "Wall time: 172 µs\n"
     ]
    },
    {
     "data": {
      "text/plain": [
       "array([0, 0, 0, 0, 0, 0, 0, 0, 0, 0, 0, 0, 0, 0, 0, 0, 0, 0, 0, 0, 0, 0,\n",
       "       0, 0, 0, 0, 0, 0, 0, 0, 0, 0, 0, 0, 1, 1, 1, 1, 1, 1, 1, 1, 1, 1,\n",
       "       1, 1, 1, 1, 1, 1, 1, 1, 1, 1, 1, 1, 1, 1, 1, 1, 1, 1, 1, 1, 1, 1,\n",
       "       1, 2, 2, 2, 2, 2, 2, 2, 2, 2, 2, 2, 2, 2, 2, 2, 2, 2, 2, 2, 2, 2,\n",
       "       2, 2, 2, 2, 2, 2, 2, 2, 2, 2, 2, 2])"
      ]
     },
     "execution_count": 24,
     "metadata": {},
     "output_type": "execute_result"
    }
   ],
   "source": [
    "%time my_clf.predict(X)"
   ]
  },
  {
   "cell_type": "code",
   "execution_count": 25,
   "metadata": {},
   "outputs": [
    {
     "name": "stdout",
     "output_type": "stream",
     "text": [
      "CPU times: user 11.3 ms, sys: 0 ns, total: 11.3 ms\n",
      "Wall time: 10.6 ms\n"
     ]
    },
    {
     "data": {
      "text/plain": [
       "<__main__.MiniBatchKMeans instance at 0x7ffba5b8bd88>"
      ]
     },
     "execution_count": 25,
     "metadata": {},
     "output_type": "execute_result"
    }
   ],
   "source": [
    "## Время выполнения алгоритма MyKmeans с MiniBatchMyKmeans\n",
    "my_clf = MiniBatchKMeans(k=3, b=100, max_iter=100)\n",
    "%time my_clf.fit(X)"
   ]
  },
  {
   "cell_type": "code",
   "execution_count": 26,
   "metadata": {},
   "outputs": [
    {
     "name": "stdout",
     "output_type": "stream",
     "text": [
      "CPU times: user 417 µs, sys: 56 µs, total: 473 µs\n",
      "Wall time: 308 µs\n"
     ]
    },
    {
     "data": {
      "text/plain": [
       "array([2, 2, 2, 2, 2, 2, 2, 2, 2, 2, 2, 2, 2, 2, 2, 2, 2, 2, 2, 2, 2, 2,\n",
       "       2, 2, 2, 2, 2, 2, 2, 2, 2, 2, 2, 2, 0, 0, 0, 0, 0, 0, 0, 0, 0, 0,\n",
       "       0, 0, 0, 0, 0, 0, 0, 0, 0, 0, 0, 0, 0, 0, 0, 0, 0, 0, 0, 0, 0, 0,\n",
       "       0, 1, 1, 1, 1, 1, 1, 1, 1, 1, 1, 1, 1, 1, 1, 1, 1, 1, 1, 1, 1, 1,\n",
       "       1, 1, 1, 1, 1, 1, 1, 1, 1, 1, 1, 1])"
      ]
     },
     "execution_count": 26,
     "metadata": {},
     "output_type": "execute_result"
    }
   ],
   "source": [
    "%time my_clf.predict(X)"
   ]
  },
  {
   "cell_type": "code",
   "execution_count": 29,
   "metadata": {},
   "outputs": [
    {
     "name": "stdout",
     "output_type": "stream",
     "text": [
      "CPU times: user 8.19 ms, sys: 2.45 ms, total: 10.6 ms\n",
      "Wall time: 9.55 ms\n"
     ]
    },
    {
     "data": {
      "text/plain": [
       "<__main__.MiniBatchKMeans instance at 0x7ffba5b8b0e0>"
      ]
     },
     "execution_count": 29,
     "metadata": {},
     "output_type": "execute_result"
    }
   ],
   "source": [
    "## Время выполнения алгоритма  MyKmeans++ с MiniBatchMyKmeans\n",
    "my_clf = MiniBatchKMeans(k=3, b=100, max_iter=100, init='k-means')\n",
    "%time my_clf.fit(X)"
   ]
  },
  {
   "cell_type": "code",
   "execution_count": 30,
   "metadata": {},
   "outputs": [
    {
     "name": "stdout",
     "output_type": "stream",
     "text": [
      "CPU times: user 191 µs, sys: 26 µs, total: 217 µs\n",
      "Wall time: 180 µs\n"
     ]
    },
    {
     "data": {
      "text/plain": [
       "array([0, 0, 0, 0, 0, 0, 0, 0, 0, 0, 0, 0, 0, 0, 0, 0, 0, 0, 0, 0, 0, 0,\n",
       "       0, 0, 0, 0, 0, 0, 0, 0, 0, 0, 0, 0, 2, 2, 2, 2, 2, 2, 2, 2, 2, 2,\n",
       "       2, 2, 2, 2, 2, 2, 2, 2, 2, 2, 2, 2, 2, 2, 2, 2, 2, 2, 2, 2, 2, 2,\n",
       "       2, 1, 1, 1, 1, 1, 1, 1, 1, 1, 1, 1, 1, 1, 1, 1, 1, 1, 1, 1, 1, 1,\n",
       "       1, 1, 1, 1, 1, 1, 1, 1, 1, 1, 1, 1])"
      ]
     },
     "execution_count": 30,
     "metadata": {},
     "output_type": "execute_result"
    }
   ],
   "source": [
    "%time my_clf.predict(X)"
   ]
  },
  {
   "cell_type": "code",
   "execution_count": 48,
   "metadata": {},
   "outputs": [],
   "source": [
    "from sklearn.cluster import KMeans\n",
    "import time"
   ]
  },
  {
   "cell_type": "code",
   "execution_count": 144,
   "metadata": {},
   "outputs": [
    {
     "name": "stderr",
     "output_type": "stream",
     "text": [
      "/home/nikita/anaconda2/lib/python2.7/site-packages/ipykernel_launcher.py:36: RuntimeWarning: invalid value encountered in divide\n",
      "/home/nikita/anaconda2/lib/python2.7/site-packages/ipykernel_launcher.py:30: RuntimeWarning: invalid value encountered in less\n",
      "/home/nikita/anaconda2/lib/python2.7/site-packages/ipykernel_launcher.py:117: RuntimeWarning: invalid value encountered in divide\n",
      "/home/nikita/anaconda2/lib/python2.7/site-packages/ipykernel_launcher.py:111: RuntimeWarning: invalid value encountered in less\n"
     ]
    },
    {
     "data": {
      "image/png": "[encoded data removed]",
      "text/plain": [
       "<matplotlib.figure.Figure at 0x7f1cd2b06f90>"
      ]
     },
     "metadata": {},
     "output_type": "display_data"
    }
   ],
   "source": [
    "sizes = [1000, 2000, 3000, 4000, 5000]\n",
    "times = []\n",
    "clfs = [KMeans(n_clusters=3, max_iter=100), MyKmeans(k=3, max_iter=100), MyKmeans(k=3, max_iter=100, init='k-means')\n",
    "    , MiniBatchKMeans(k=3, max_iter=100, b=50), MiniBatchKMeans(k=3, b=50, max_iter=100, init='k-means')]\n",
    "for j, clf in enumerate(clfs):\n",
    "    t = []\n",
    "    for i, size in enumerate(sizes):\n",
    "        X, y = make_blobs(n_samples=size, n_features=2, centers=3, cluster_std=1,\n",
    "                          center_box=(-10.0, 10.0), shuffle=False, random_state=123)\n",
    "        start = time.time()\n",
    "        clf.fit(X)\n",
    "        end = time.time() - start\n",
    "        t.append(end)\n",
    "    times.append(t)\n",
    "plt.plot(sizes, times[0], label='sklearn')\n",
    "plt.plot(sizes, times[1], label='kmeans')\n",
    "plt.plot(sizes, times[2], label='kmeans++')\n",
    "plt.plot(sizes, times[3], label='mimbatch with kmeans')\n",
    "plt.plot(sizes, times[4], label='mimbatch with kmeans++')\n",
    "plt.legend()\n",
    "plt.xlabel('size')\n",
    "plt.ylabel('time')\n",
    "plt.show()"
   ]
  },
  {
   "cell_type": "markdown",
   "metadata": {},
   "source": [
    "# Применение K-means на реальных данных"
   ]
  },
  {
   "cell_type": "markdown",
   "metadata": {},
   "source": [
    "Загрузите [данные](https://github.com/brenden17/sklearnlab/blob/master/facebook/snsdata.csv) в которых содержится описание интересов профилей учеников старшей школы США.  (без этого пункта задание не считается выполненным).   \n",
    "ВНИМАНИЕ! Проверка должна быть осуществлена на всех реализациях, иначе реализация не будет зачтена!"
   ]
  },
  {
   "cell_type": "code",
   "execution_count": 135,
   "metadata": {},
   "outputs": [
    {
     "data": {
      "text/html": [
       "<div>\n",
       "<style scoped>\n",
       "    .dataframe tbody tr th:only-of-type {\n",
       "        vertical-align: middle;\n",
       "    }\n",
       "\n",
       "    .dataframe tbody tr th {\n",
       "        vertical-align: top;\n",
       "    }\n",
       "\n",
       "    .dataframe thead th {\n",
       "        text-align: right;\n",
       "    }\n",
       "</style>\n",
       "<table border=\"1\" class=\"dataframe\">\n",
       "  <thead>\n",
       "    <tr style=\"text-align: right;\">\n",
       "      <th></th>\n",
       "      <th>gradyear</th>\n",
       "      <th>gender</th>\n",
       "      <th>age</th>\n",
       "      <th>friends</th>\n",
       "      <th>basketball</th>\n",
       "      <th>football</th>\n",
       "      <th>soccer</th>\n",
       "      <th>softball</th>\n",
       "      <th>volleyball</th>\n",
       "      <th>swimming</th>\n",
       "      <th>...</th>\n",
       "      <th>blonde</th>\n",
       "      <th>mall</th>\n",
       "      <th>shopping</th>\n",
       "      <th>clothes</th>\n",
       "      <th>hollister</th>\n",
       "      <th>abercrombie</th>\n",
       "      <th>die</th>\n",
       "      <th>death</th>\n",
       "      <th>drunk</th>\n",
       "      <th>drugs</th>\n",
       "    </tr>\n",
       "  </thead>\n",
       "  <tbody>\n",
       "    <tr>\n",
       "      <th>0</th>\n",
       "      <td>2006</td>\n",
       "      <td>M</td>\n",
       "      <td>18.982</td>\n",
       "      <td>7</td>\n",
       "      <td>0</td>\n",
       "      <td>0</td>\n",
       "      <td>0</td>\n",
       "      <td>0</td>\n",
       "      <td>0</td>\n",
       "      <td>0</td>\n",
       "      <td>...</td>\n",
       "      <td>0</td>\n",
       "      <td>0</td>\n",
       "      <td>0</td>\n",
       "      <td>0</td>\n",
       "      <td>0</td>\n",
       "      <td>0</td>\n",
       "      <td>0</td>\n",
       "      <td>0</td>\n",
       "      <td>0</td>\n",
       "      <td>0</td>\n",
       "    </tr>\n",
       "    <tr>\n",
       "      <th>1</th>\n",
       "      <td>2006</td>\n",
       "      <td>F</td>\n",
       "      <td>18.801</td>\n",
       "      <td>0</td>\n",
       "      <td>0</td>\n",
       "      <td>1</td>\n",
       "      <td>0</td>\n",
       "      <td>0</td>\n",
       "      <td>0</td>\n",
       "      <td>0</td>\n",
       "      <td>...</td>\n",
       "      <td>0</td>\n",
       "      <td>1</td>\n",
       "      <td>0</td>\n",
       "      <td>0</td>\n",
       "      <td>0</td>\n",
       "      <td>0</td>\n",
       "      <td>0</td>\n",
       "      <td>0</td>\n",
       "      <td>0</td>\n",
       "      <td>0</td>\n",
       "    </tr>\n",
       "    <tr>\n",
       "      <th>2</th>\n",
       "      <td>2006</td>\n",
       "      <td>M</td>\n",
       "      <td>18.335</td>\n",
       "      <td>69</td>\n",
       "      <td>0</td>\n",
       "      <td>1</td>\n",
       "      <td>0</td>\n",
       "      <td>0</td>\n",
       "      <td>0</td>\n",
       "      <td>0</td>\n",
       "      <td>...</td>\n",
       "      <td>0</td>\n",
       "      <td>0</td>\n",
       "      <td>0</td>\n",
       "      <td>0</td>\n",
       "      <td>0</td>\n",
       "      <td>0</td>\n",
       "      <td>0</td>\n",
       "      <td>1</td>\n",
       "      <td>0</td>\n",
       "      <td>0</td>\n",
       "    </tr>\n",
       "    <tr>\n",
       "      <th>3</th>\n",
       "      <td>2006</td>\n",
       "      <td>F</td>\n",
       "      <td>18.875</td>\n",
       "      <td>0</td>\n",
       "      <td>0</td>\n",
       "      <td>0</td>\n",
       "      <td>0</td>\n",
       "      <td>0</td>\n",
       "      <td>0</td>\n",
       "      <td>0</td>\n",
       "      <td>...</td>\n",
       "      <td>0</td>\n",
       "      <td>0</td>\n",
       "      <td>0</td>\n",
       "      <td>0</td>\n",
       "      <td>0</td>\n",
       "      <td>0</td>\n",
       "      <td>0</td>\n",
       "      <td>0</td>\n",
       "      <td>0</td>\n",
       "      <td>0</td>\n",
       "    </tr>\n",
       "    <tr>\n",
       "      <th>4</th>\n",
       "      <td>2006</td>\n",
       "      <td>NaN</td>\n",
       "      <td>18.995</td>\n",
       "      <td>10</td>\n",
       "      <td>0</td>\n",
       "      <td>0</td>\n",
       "      <td>0</td>\n",
       "      <td>0</td>\n",
       "      <td>0</td>\n",
       "      <td>0</td>\n",
       "      <td>...</td>\n",
       "      <td>0</td>\n",
       "      <td>0</td>\n",
       "      <td>2</td>\n",
       "      <td>0</td>\n",
       "      <td>0</td>\n",
       "      <td>0</td>\n",
       "      <td>0</td>\n",
       "      <td>0</td>\n",
       "      <td>1</td>\n",
       "      <td>1</td>\n",
       "    </tr>\n",
       "  </tbody>\n",
       "</table>\n",
       "<p>5 rows × 40 columns</p>\n",
       "</div>"
      ],
      "text/plain": [
       "   gradyear gender     age  friends  basketball  football  soccer  softball  \\\n",
       "0      2006      M  18.982        7           0         0       0         0   \n",
       "1      2006      F  18.801        0           0         1       0         0   \n",
       "2      2006      M  18.335       69           0         1       0         0   \n",
       "3      2006      F  18.875        0           0         0       0         0   \n",
       "4      2006    NaN  18.995       10           0         0       0         0   \n",
       "\n",
       "   volleyball  swimming  ...    blonde  mall  shopping  clothes  hollister  \\\n",
       "0           0         0  ...         0     0         0        0          0   \n",
       "1           0         0  ...         0     1         0        0          0   \n",
       "2           0         0  ...         0     0         0        0          0   \n",
       "3           0         0  ...         0     0         0        0          0   \n",
       "4           0         0  ...         0     0         2        0          0   \n",
       "\n",
       "   abercrombie  die  death  drunk  drugs  \n",
       "0            0    0      0      0      0  \n",
       "1            0    0      0      0      0  \n",
       "2            0    0      1      0      0  \n",
       "3            0    0      0      0      0  \n",
       "4            0    0      0      1      1  \n",
       "\n",
       "[5 rows x 40 columns]"
      ]
     },
     "execution_count": 135,
     "metadata": {},
     "output_type": "execute_result"
    }
   ],
   "source": [
    "df_sns = pd.read_csv('snsdata.csv', sep=',')\n",
    "df_sns.head()"
   ]
  },
  {
   "cell_type": "markdown",
   "metadata": {},
   "source": [
    "Данные устроены так: \n",
    "* Год выпуска\n",
    "* Пол\n",
    "* Возраст\n",
    "* Количество друзей\n",
    "* 36 ключевых слов, которые встречаются в профилe facebook (интересы, сообщества, встречи)"
   ]
  },
  {
   "cell_type": "markdown",
   "metadata": {},
   "source": [
    "* Удалите все признаки кроме 36 ключевых слов.\n",
    "* Нормализуйте данные - из каждого столбца вычтите его среднее значение и поделите на стандартное отклонение.\n",
    "* Используйте метод k-means чтобы выделить 9 кластеров\n",
    "* Попробуйте проинтерпретировать каждый кластер проанализировав полученные центройды (Некоторые кластеры могут быть очень большие и очень маленькие - плохо интерпретируются)   \n",
    "КОММЕНТАРИИ НЕ СТИРАТЬ!"
   ]
  },
  {
   "cell_type": "code",
   "execution_count": 136,
   "metadata": {},
   "outputs": [],
   "source": [
    "df_sns = df_sns.drop(columns=['gradyear', 'gender', 'age', 'friends'])"
   ]
  },
  {
   "cell_type": "code",
   "execution_count": 137,
   "metadata": {},
   "outputs": [
    {
     "data": {
      "text/plain": [
       "(30000, 36)"
      ]
     },
     "execution_count": 137,
     "metadata": {},
     "output_type": "execute_result"
    }
   ],
   "source": [
    "df_sns.shape"
   ]
  },
  {
   "cell_type": "code",
   "execution_count": 138,
   "metadata": {},
   "outputs": [],
   "source": [
    "df_sns_normed = (df_sns - df_sns.mean(axis=0)) / df_sns.std(axis=0)"
   ]
  },
  {
   "cell_type": "code",
   "execution_count": 139,
   "metadata": {},
   "outputs": [],
   "source": [
    "k = 9\n",
    "b = 15000"
   ]
  },
  {
   "cell_type": "code",
   "execution_count": 140,
   "metadata": {},
   "outputs": [
    {
     "name": "stdout",
     "output_type": "stream",
     "text": [
      "CPU times: user 27.4 s, sys: 9.9 s, total: 37.3 s\n",
      "Wall time: 18.7 s\n",
      "(1, 'claster', 'size', 4408)\n",
      "Index([u'hollister', u'shopping', u'cheerleading', u'abercrombie',\n",
      "       u'basketball', u'baseball', u'softball', u'volleyball', u'hot',\n",
      "       u'church', u'swimming', u'bible', u'football', u'mall', u'sports',\n",
      "       u'cute', u'soccer', u'jesus', u'dress', u'sexy', u'blonde', u'dance',\n",
      "       u'tennis', u'god', u'clothes', u'sex', u'kissed', u'hair', u'drugs',\n",
      "       u'rock', u'drunk', u'death', u'music', u'die', u'marching', u'band'],\n",
      "      dtype='object')\n",
      "(2, 'claster', 'size', 4343)\n",
      "Index([u'hollister', u'cheerleading', u'abercrombie', u'sports', u'marching',\n",
      "       u'band', u'baseball', u'drugs', u'bible', u'death', u'softball',\n",
      "       u'drunk', u'die', u'jesus', u'basketball', u'kissed', u'volleyball',\n",
      "       u'football', u'rock', u'god', u'sex', u'swimming', u'blonde', u'church',\n",
      "       u'music', u'tennis', u'soccer', u'hair', u'clothes', u'sexy', u'hot',\n",
      "       u'dance', u'mall', u'dress', u'cute', u'shopping'],\n",
      "      dtype='object')\n",
      "(3, 'claster', 'size', 1083)\n",
      "Index([u'cheerleading', u'abercrombie', u'hollister', u'kissed', u'sexy',\n",
      "       u'marching', u'sex', u'swimming', u'mall', u'softball', u'baseball',\n",
      "       u'hot', u'drunk', u'volleyball', u'dance', u'football', u'drugs',\n",
      "       u'sports', u'blonde', u'cute', u'dress', u'soccer', u'hair',\n",
      "       u'basketball', u'band', u'shopping', u'clothes', u'tennis', u'rock',\n",
      "       u'die', u'death', u'music', u'god', u'jesus', u'bible', u'church'],\n",
      "      dtype='object')\n",
      "(4, 'claster', 'size', 13996)\n",
      "Index([u'shopping', u'cute', u'hair', u'music', u'mall', u'clothes', u'dance',\n",
      "       u'football', u'dress', u'basketball', u'cheerleading', u'rock', u'band',\n",
      "       u'hollister', u'die', u'hot', u'death', u'abercrombie', u'church',\n",
      "       u'sports', u'drunk', u'god', u'kissed', u'swimming', u'sexy',\n",
      "       u'softball', u'baseball', u'drugs', u'volleyball', u'marching', u'sex',\n",
      "       u'jesus', u'soccer', u'bible', u'tennis', u'blonde'],\n",
      "      dtype='object')\n",
      "(5, 'claster', 'size', 509)\n",
      "Index([u'cheerleading', u'marching', u'hollister', u'abercrombie', u'jesus',\n",
      "       u'softball', u'drugs', u'sex', u'dress', u'bible', u'basketball',\n",
      "       u'church', u'dance', u'sexy', u'die', u'sports', u'blonde', u'death',\n",
      "       u'god', u'tennis', u'kissed', u'band', u'baseball', u'football',\n",
      "       u'soccer', u'rock', u'drunk', u'volleyball', u'hair', u'mall', u'cute',\n",
      "       u'hot', u'clothes', u'music', u'shopping', u'swimming'],\n",
      "      dtype='object')\n",
      "(6, 'claster', 'size', 1683)\n",
      "Index([u'marching', u'band', u'bible', u'jesus', u'baseball', u'church',\n",
      "       u'god', u'rock', u'drunk', u'softball', u'die', u'sex', u'basketball',\n",
      "       u'cheerleading', u'music', u'drugs', u'sports', u'blonde', u'death',\n",
      "       u'kissed', u'football', u'tennis', u'swimming', u'dress', u'sexy',\n",
      "       u'soccer', u'volleyball', u'dance', u'hot', u'cute', u'hair',\n",
      "       u'clothes', u'mall', u'shopping', u'abercrombie', u'hollister'],\n",
      "      dtype='object')\n",
      "(7, 'claster', 'size', 2455)\n",
      "Index([u'hollister', u'abercrombie', u'cheerleading', u'dress', u'marching',\n",
      "       u'band', u'drunk', u'die', u'bible', u'drugs', u'cute', u'death',\n",
      "       u'kissed', u'jesus', u'swimming', u'shopping', u'hot', u'sex', u'dance',\n",
      "       u'god', u'mall', u'sexy', u'hair', u'clothes', u'blonde', u'music',\n",
      "       u'church', u'tennis', u'rock', u'soccer', u'volleyball', u'softball',\n",
      "       u'football', u'baseball', u'sports', u'basketball'],\n",
      "      dtype='object')\n",
      "(8, 'claster', 'size', 191)\n",
      "Index([u'marching', u'jesus', u'volleyball', u'soccer', u'cheerleading',\n",
      "       u'bible', u'tennis', u'church', u'softball', u'baseball', u'hot',\n",
      "       u'swimming', u'god', u'basketball', u'shopping', u'band', u'dance',\n",
      "       u'football', u'hollister', u'sexy', u'mall', u'cute', u'abercrombie',\n",
      "       u'blonde', u'dress', u'death', u'sports', u'clothes', u'die', u'rock',\n",
      "       u'drunk', u'music', u'drugs', u'hair', u'sex', u'kissed'],\n",
      "      dtype='object')\n",
      "(9, 'claster', 'size', 1332)\n",
      "Index([u'band', u'marching', u'die', u'music', u'bible', u'sports', u'jesus',\n",
      "       u'tennis', u'drunk', u'drugs', u'death', u'abercrombie', u'sex', u'god',\n",
      "       u'swimming', u'soccer', u'kissed', u'volleyball', u'clothes',\n",
      "       u'hollister', u'softball', u'baseball', u'rock', u'church', u'dress',\n",
      "       u'blonde', u'sexy', u'hair', u'basketball', u'mall', u'dance', u'hot',\n",
      "       u'cute', u'football', u'shopping', u'cheerleading'],\n",
      "      dtype='object')\n"
     ]
    }
   ],
   "source": [
    "## MyKMeans\n",
    "my_clf = MyKmeans(k=k)\n",
    "%time my_clf.fit(df_sns_normed.values)\n",
    "y_pred = my_clf.predict(df_sns_normed.values)\n",
    "\n",
    "for i, centr in enumerate(my_clf.centroids):\n",
    "    print(i + 1, 'claster', 'size', my_clf.labels[my_clf.labels == i].size)\n",
    "    print(df_sns_normed.columns[np.argsort(centr)][:])"
   ]
  },
  {
   "cell_type": "code",
   "execution_count": 142,
   "metadata": {},
   "outputs": [
    {
     "name": "stdout",
     "output_type": "stream",
     "text": [
      "CPU times: user 42.4 s, sys: 15.4 s, total: 57.8 s\n",
      "Wall time: 30.7 s\n",
      "(1, 'claster', 'size', 947)\n",
      "Index([u'hollister', u'abercrombie', u'sports', u'volleyball', u'basketball',\n",
      "       u'tennis', u'mall', u'drugs', u'cheerleading', u'hot', u'baseball',\n",
      "       u'soccer', u'drunk', u'shopping', u'sexy', u'cute', u'kissed', u'sex',\n",
      "       u'softball', u'die', u'blonde', u'death', u'church', u'swimming',\n",
      "       u'football', u'jesus', u'bible', u'hair', u'dance', u'god', u'dress',\n",
      "       u'clothes', u'rock', u'music', u'band', u'marching'],\n",
      "      dtype='object')\n",
      "(2, 'claster', 'size', 4747)\n",
      "Index([u'tennis', u'hollister', u'abercrombie', u'marching', u'drunk', u'die',\n",
      "       u'drugs', u'band', u'kissed', u'hair', u'clothes', u'death', u'mall',\n",
      "       u'shopping', u'cute', u'dress', u'sex', u'dance', u'hot', u'sexy',\n",
      "       u'bible', u'cheerleading', u'god', u'music', u'jesus', u'blonde',\n",
      "       u'church', u'swimming', u'rock', u'soccer', u'volleyball', u'softball',\n",
      "       u'baseball', u'sports', u'basketball', u'football'],\n",
      "      dtype='object')\n",
      "(3, 'claster', 'size', 11)\n",
      "Index([u'clothes', u'church', u'hot', u'swimming', u'shopping', u'softball',\n",
      "       u'god', u'hollister', u'abercrombie', u'drugs', u'soccer', u'marching',\n",
      "       u'basketball', u'bible', u'football', u'blonde', u'cheerleading',\n",
      "       u'baseball', u'kissed', u'tennis', u'drunk', u'volleyball', u'jesus',\n",
      "       u'mall', u'hair', u'sports', u'dance', u'band', u'music', u'dress',\n",
      "       u'sex', u'death', u'rock', u'die', u'cute', u'sexy'],\n",
      "      dtype='object')\n",
      "(4, 'claster', 'size', 11)\n",
      "Index([u'shopping', u'mall', u'cute', u'dance', u'band', u'dress',\n",
      "       u'volleyball', u'hair', u'basketball', u'softball', u'cheerleading',\n",
      "       u'hollister', u'abercrombie', u'drugs', u'tennis', u'soccer',\n",
      "       u'marching', u'sexy', u'hot', u'blonde', u'music', u'sex', u'kissed',\n",
      "       u'rock', u'football', u'baseball', u'swimming', u'clothes', u'drunk',\n",
      "       u'sports', u'death', u'die', u'church', u'jesus', u'god', u'bible'],\n",
      "      dtype='object')\n",
      "(5, 'claster', 'size', 3620)\n",
      "Index([u'tennis', u'hollister', u'marching', u'abercrombie', u'football',\n",
      "       u'volleyball', u'baseball', u'softball', u'cheerleading', u'basketball',\n",
      "       u'shopping', u'soccer', u'sports', u'hot', u'blonde', u'mall', u'band',\n",
      "       u'swimming', u'sexy', u'dress', u'cute', u'bible', u'clothes', u'sex',\n",
      "       u'jesus', u'rock', u'dance', u'kissed', u'music', u'church', u'drugs',\n",
      "       u'god', u'death', u'drunk', u'hair', u'die'],\n",
      "      dtype='object')\n",
      "(6, 'claster', 'size', 1203)\n",
      "Index([u'marching', u'die', u'drunk', u'drugs', u'sex', u'cheerleading',\n",
      "       u'softball', u'death', u'kissed', u'baseball', u'hair', u'sexy',\n",
      "       u'hollister', u'hot', u'mall', u'band', u'jesus', u'cute', u'blonde',\n",
      "       u'dance', u'god', u'bible', u'abercrombie', u'dress', u'rock',\n",
      "       u'clothes', u'football', u'music', u'shopping', u'church',\n",
      "       u'volleyball', u'basketball', u'sports', u'swimming', u'soccer',\n",
      "       u'tennis'],\n",
      "      dtype='object')\n",
      "(7, 'claster', 'size', 15449)\n",
      "Index([u'football', u'shopping', u'basketball', u'hair', u'sports', u'clothes',\n",
      "       u'mall', u'cute', u'music', u'dance', u'hollister', u'baseball',\n",
      "       u'softball', u'rock', u'church', u'die', u'tennis', u'volleyball',\n",
      "       u'abercrombie', u'god', u'soccer', u'hot', u'kissed', u'band', u'dress',\n",
      "       u'death', u'drunk', u'marching', u'drugs', u'cheerleading', u'swimming',\n",
      "       u'sex', u'jesus', u'sexy', u'bible', u'blonde'],\n",
      "      dtype='object')\n",
      "(8, 'claster', 'size', 215)\n",
      "Index([u'marching', u'jesus', u'soccer', u'tennis', u'volleyball', u'bible',\n",
      "       u'church', u'softball', u'cheerleading', u'baseball', u'swimming',\n",
      "       u'hot', u'god', u'dance', u'band', u'shopping', u'basketball', u'sexy',\n",
      "       u'football', u'mall', u'dress', u'cute', u'hollister', u'blonde',\n",
      "       u'death', u'abercrombie', u'sports', u'clothes', u'die', u'rock',\n",
      "       u'drunk', u'music', u'drugs', u'hair', u'sex', u'kissed'],\n",
      "      dtype='object')\n",
      "(9, 'claster', 'size', 3797)\n",
      "Index([u'marching', u'tennis', u'band', u'sports', u'drugs', u'die', u'bible',\n",
      "       u'jesus', u'kissed', u'baseball', u'sex', u'softball', u'drunk',\n",
      "       u'death', u'god', u'basketball', u'soccer', u'rock', u'blonde',\n",
      "       u'football', u'volleyball', u'music', u'church', u'sexy', u'hair',\n",
      "       u'dance', u'swimming', u'dress', u'clothes', u'cute', u'cheerleading',\n",
      "       u'hot', u'abercrombie', u'mall', u'hollister', u'shopping'],\n",
      "      dtype='object')\n"
     ]
    }
   ],
   "source": [
    "## MyKMeans++\n",
    "my_clf = MyKmeans(k=k, init='k-means')\n",
    "%time my_clf.fit(df_sns_normed.values)\n",
    "y_pred = my_clf.predict(df_sns_normed.values)\n",
    "\n",
    "for i, centr in enumerate(my_clf.centroids):\n",
    "    print(i + 1, 'claster', 'size', my_clf.labels[my_clf.labels == i].size)\n",
    "    print(df_sns_normed.columns[np.argsort(centr)][:])"
   ]
  },
  {
   "cell_type": "code",
   "execution_count": 110,
   "metadata": {},
   "outputs": [
    {
     "name": "stdout",
     "output_type": "stream",
     "text": [
      "CPU times: user 9.39 s, sys: 3.47 s, total: 12.9 s\n",
      "Wall time: 6.47 s\n",
      "(1, 'claster', 'size', 1682)\n",
      "Index([u'bible', u'jesus', u'church', u'volleyball', u'marching', u'tennis',\n",
      "       u'hollister', u'softball', u'shopping', u'abercrombie', u'cheerleading',\n",
      "       u'blonde', u'soccer', u'baseball', u'swimming', u'basketball', u'hot',\n",
      "       u'band', u'football', u'god', u'dress', u'mall', u'sports', u'dance',\n",
      "       u'death', u'cute', u'sexy', u'music', u'sex', u'clothes', u'rock',\n",
      "       u'die', u'drugs', u'drunk', u'kissed', u'hair'],\n",
      "      dtype='object')\n",
      "(2, 'claster', 'size', 6902)\n",
      "Index([u'shopping', u'football', u'basketball', u'mall', u'hair', u'cute',\n",
      "       u'music', u'clothes', u'sports', u'band', u'swimming', u'softball',\n",
      "       u'hot', u'volleyball', u'church', u'dance', u'soccer', u'baseball',\n",
      "       u'rock', u'cheerleading', u'god', u'kissed', u'dress', u'hollister',\n",
      "       u'drunk', u'abercrombie', u'die', u'marching', u'drugs', u'tennis',\n",
      "       u'jesus', u'sex', u'sexy', u'death', u'bible', u'blonde'],\n",
      "      dtype='object')\n",
      "(3, 'claster', 'size', 109)\n",
      "Index([u'softball', u'jesus', u'baseball', u'sports', u'marching',\n",
      "       u'volleyball', u'drugs', u'kissed', u'abercrombie', u'bible', u'drunk',\n",
      "       u'blonde', u'tennis', u'soccer', u'hot', u'basketball', u'cheerleading',\n",
      "       u'god', u'sex', u'band', u'swimming', u'music', u'church', u'die',\n",
      "       u'football', u'sexy', u'rock', u'death', u'hollister', u'clothes',\n",
      "       u'hair', u'dance', u'mall', u'cute', u'shopping', u'dress'],\n",
      "      dtype='object')\n",
      "(4, 'claster', 'size', 174)\n",
      "Index([u'drunk', u'abercrombie', u'blonde', u'drugs', u'swimming', u'marching',\n",
      "       u'hollister', u'death', u'rock', u'bible', u'tennis', u'die', u'kissed',\n",
      "       u'sports', u'softball', u'sexy', u'band', u'hot', u'soccer',\n",
      "       u'volleyball', u'football', u'dress', u'cheerleading', u'hair',\n",
      "       u'basketball', u'music', u'dance', u'jesus', u'clothes', u'baseball',\n",
      "       u'cute', u'god', u'shopping', u'sex', u'mall', u'church'],\n",
      "      dtype='object')\n",
      "(5, 'claster', 'size', 162)\n",
      "Index([u'jesus', u'marching', u'bible', u'church', u'softball', u'god',\n",
      "       u'soccer', u'death', u'baseball', u'band', u'blonde', u'sexy', u'rock',\n",
      "       u'drunk', u'die', u'dress', u'sex', u'drugs', u'music', u'dance',\n",
      "       u'volleyball', u'basketball', u'sports', u'kissed', u'swimming',\n",
      "       u'tennis', u'football', u'cheerleading', u'hot', u'cute', u'hair',\n",
      "       u'clothes', u'mall', u'shopping', u'hollister', u'abercrombie'],\n",
      "      dtype='object')\n",
      "(6, 'claster', 'size', 505)\n",
      "Index([u'cute', u'shopping', u'hollister', u'mall', u'sexy', u'kissed',\n",
      "       u'abercrombie', u'hot', u'dance', u'dress', u'drunk', u'cheerleading',\n",
      "       u'softball', u'hair', u'baseball', u'football', u'marching', u'drugs',\n",
      "       u'sex', u'blonde', u'basketball', u'volleyball', u'clothes', u'sports',\n",
      "       u'soccer', u'tennis', u'band', u'swimming', u'rock', u'die', u'music',\n",
      "       u'death', u'church', u'god', u'jesus', u'bible'],\n",
      "      dtype='object')\n",
      "(7, 'claster', 'size', 2457)\n",
      "Index([u'sports', u'drugs', u'die', u'drunk', u'band', u'kissed', u'football',\n",
      "       u'marching', u'baseball', u'bible', u'basketball', u'sex', u'rock',\n",
      "       u'softball', u'soccer', u'jesus', u'death', u'volleyball', u'god',\n",
      "       u'hair', u'tennis', u'church', u'blonde', u'sexy', u'music',\n",
      "       u'abercrombie', u'dress', u'hollister', u'clothes', u'dance',\n",
      "       u'swimming', u'cute', u'hot', u'cheerleading', u'mall', u'shopping'],\n",
      "      dtype='object')\n",
      "(8, 'claster', 'size', 2957)\n",
      "Index([u'hair', u'shopping', u'cute', u'clothes', u'drunk', u'drugs',\n",
      "       u'kissed', u'die', u'mall', u'dress', u'sex', u'hollister',\n",
      "       u'cheerleading', u'abercrombie', u'bible', u'sexy', u'dance', u'hot',\n",
      "       u'death', u'god', u'swimming', u'jesus', u'church', u'rock', u'blonde',\n",
      "       u'music', u'tennis', u'soccer', u'basketball', u'volleyball', u'band',\n",
      "       u'softball', u'baseball', u'sports', u'marching', u'football'],\n",
      "      dtype='object')\n",
      "(9, 'claster', 'size', 52)\n",
      "Index([u'death', u'marching', u'jesus', u'drunk', u'sex', u'bible', u'drugs',\n",
      "       u'band', u'dress', u'hot', u'cheerleading', u'tennis', u'rock', u'cute',\n",
      "       u'sexy', u'swimming', u'hollister', u'die', u'kissed', u'blonde',\n",
      "       u'music', u'dance', u'god', u'church', u'abercrombie', u'baseball',\n",
      "       u'soccer', u'hair', u'football', u'clothes', u'mall', u'shopping',\n",
      "       u'volleyball', u'sports', u'softball', u'basketball'],\n",
      "      dtype='object')\n"
     ]
    }
   ],
   "source": [
    "## MyKMeans с MiniBatchMyKMeans\n",
    "my_clf = MiniBatchKMeans(k=k, b=b)\n",
    "%time my_clf.fit(df_sns_normed.values)\n",
    "y_pred = my_clf.predict(df_sns_normed.values)\n",
    "\n",
    "for i, centr in enumerate(my_clf.centroids):\n",
    "    print(i + 1, 'claster', 'size', my_clf.labels[my_clf.labels == i].size)\n",
    "    print(df_sns_normed.columns[np.argsort(centr)][:])"
   ]
  },
  {
   "cell_type": "code",
   "execution_count": 111,
   "metadata": {},
   "outputs": [
    {
     "name": "stdout",
     "output_type": "stream",
     "text": [
      "CPU times: user 8.26 s, sys: 3 s, total: 11.3 s\n",
      "Wall time: 5.64 s\n",
      "(1, 'claster', 'size', 1460)\n",
      "Index([u'die', u'marching', u'band', u'death', u'hollister', u'abercrombie',\n",
      "       u'drugs', u'bible', u'shopping', u'kissed', u'drunk', u'cute', u'hair',\n",
      "       u'clothes', u'sex', u'sexy', u'mall', u'dress', u'dance', u'jesus',\n",
      "       u'god', u'rock', u'soccer', u'hot', u'blonde', u'music', u'swimming',\n",
      "       u'cheerleading', u'church', u'tennis', u'sports', u'baseball',\n",
      "       u'volleyball', u'softball', u'basketball', u'football'],\n",
      "      dtype='object')\n",
      "(2, 'claster', 'size', 455)\n",
      "Index([u'jesus', u'marching', u'bible', u'soccer', u'volleyball', u'tennis',\n",
      "       u'church', u'softball', u'blonde', u'swimming', u'shopping',\n",
      "       u'cheerleading', u'abercrombie', u'god', u'baseball', u'hollister',\n",
      "       u'hot', u'basketball', u'football', u'band', u'dance', u'death',\n",
      "       u'dress', u'cute', u'sexy', u'mall', u'sports', u'rock', u'clothes',\n",
      "       u'die', u'music', u'drunk', u'sex', u'drugs', u'hair', u'kissed'],\n",
      "      dtype='object')\n",
      "(3, 'claster', 'size', 2314)\n",
      "Index([u'death', u'marching', u'band', u'bible', u'baseball', u'soccer',\n",
      "       u'die', u'softball', u'sports', u'jesus', u'kissed', u'drugs',\n",
      "       u'basketball', u'volleyball', u'sex', u'football', u'blonde', u'god',\n",
      "       u'rock', u'tennis', u'drunk', u'church', u'music', u'swimming', u'hair',\n",
      "       u'sexy', u'dress', u'cheerleading', u'dance', u'hot', u'clothes',\n",
      "       u'abercrombie', u'cute', u'mall', u'hollister', u'shopping'],\n",
      "      dtype='object')\n",
      "(4, 'claster', 'size', 4)\n",
      "Index([u'cute', u'mall', u'hot', u'death', u'swimming', u'dress',\n",
      "       u'cheerleading', u'abercrombie', u'dance', u'shopping', u'marching',\n",
      "       u'blonde', u'band', u'clothes', u'jesus', u'church', u'die',\n",
      "       u'hollister', u'drugs', u'sexy', u'music', u'soccer', u'rock', u'bible',\n",
      "       u'sex', u'baseball', u'football', u'hair', u'god', u'tennis', u'kissed',\n",
      "       u'drunk', u'softball', u'volleyball', u'sports', u'basketball'],\n",
      "      dtype='object')\n",
      "(5, 'claster', 'size', 8028)\n",
      "Index([u'shopping', u'death', u'hair', u'football', u'basketball', u'clothes',\n",
      "       u'cute', u'music', u'mall', u'die', u'dance', u'rock', u'sports',\n",
      "       u'band', u'hollister', u'hot', u'abercrombie', u'softball', u'dress',\n",
      "       u'church', u'god', u'baseball', u'kissed', u'volleyball', u'marching',\n",
      "       u'soccer', u'cheerleading', u'drugs', u'drunk', u'sexy', u'swimming',\n",
      "       u'sex', u'bible', u'jesus', u'tennis', u'blonde'],\n",
      "      dtype='object')\n",
      "(6, 'claster', 'size', 263)\n",
      "Index([u'marching', u'clothes', u'bible', u'jesus', u'kissed', u'softball',\n",
      "       u'drunk', u'band', u'dress', u'god', u'cheerleading', u'cute', u'sex',\n",
      "       u'drugs', u'sexy', u'blonde', u'abercrombie', u'hair', u'death', u'die',\n",
      "       u'baseball', u'volleyball', u'dance', u'mall', u'music', u'swimming',\n",
      "       u'tennis', u'church', u'hollister', u'hot', u'rock', u'football',\n",
      "       u'shopping', u'basketball', u'sports', u'soccer'],\n",
      "      dtype='object')\n",
      "(7, 'claster', 'size', 403)\n",
      "Index([u'hollister', u'mall', u'marching', u'abercrombie', u'softball',\n",
      "       u'soccer', u'baseball', u'sexy', u'sex', u'sports', u'band',\n",
      "       u'volleyball', u'kissed', u'cute', u'football', u'cheerleading',\n",
      "       u'blonde', u'drugs', u'hot', u'dance', u'basketball', u'hair', u'drunk',\n",
      "       u'swimming', u'shopping', u'clothes', u'rock', u'dress', u'death',\n",
      "       u'tennis', u'die', u'music', u'god', u'jesus', u'church', u'bible'],\n",
      "      dtype='object')\n",
      "(8, 'claster', 'size', 1438)\n",
      "Index([u'hollister', u'shopping', u'marching', u'abercrombie', u'baseball',\n",
      "       u'football', u'basketball', u'softball', u'mall', u'soccer', u'hot',\n",
      "       u'bible', u'church', u'volleyball', u'sports', u'band', u'cheerleading',\n",
      "       u'clothes', u'sexy', u'kissed', u'dress', u'blonde', u'jesus', u'sex',\n",
      "       u'tennis', u'drunk', u'swimming', u'cute', u'hair', u'drugs', u'dance',\n",
      "       u'god', u'music', u'rock', u'die', u'death'],\n",
      "      dtype='object')\n",
      "(9, 'claster', 'size', 635)\n",
      "Index([u'hollister', u'volleyball', u'sports', u'drunk', u'cheerleading',\n",
      "       u'baseball', u'basketball', u'shopping', u'soccer', u'abercrombie',\n",
      "       u'mall', u'sexy', u'clothes', u'drugs', u'bible', u'sex', u'hot',\n",
      "       u'kissed', u'death', u'softball', u'hair', u'football', u'blonde',\n",
      "       u'god', u'cute', u'die', u'dance', u'church', u'dress', u'jesus',\n",
      "       u'swimming', u'tennis', u'rock', u'music', u'band', u'marching'],\n",
      "      dtype='object')\n"
     ]
    }
   ],
   "source": [
    "## MyKMeans++ с MiniBatchMyKMeans\n",
    "my_clf = MiniBatchKMeans(k=k, b=b, init='k-means')\n",
    "%time my_clf.fit(df_sns_normed.values)\n",
    "y_pred = my_clf.predict(df_sns_normed.values)\n",
    "\n",
    "for i, centr in enumerate(my_clf.centroids):\n",
    "    print(i + 1, 'claster', 'size', my_clf.labels[my_clf.labels == i].size)\n",
    "    print(df_sns_normed.columns[np.argsort(centr)][:])"
   ]
  },
  {
   "cell_type": "code",
   "execution_count": 191,
   "metadata": {},
   "outputs": [],
   "source": [
    "## Вывод\n",
    "# Самым медленным оказался KMeans++\n",
    "# Самые быстрые - MiniBatchKMeans\n",
    "# Однако в данном случае кластеры получились одними и теми же в разных алгоритмах\n",
    "\n",
    "# Но в общем случае:\n",
    "# Если нас интересует первое приближение - хотя бы примерно понять структуру образующихся кластеров,\n",
    "# то выгоднее использовать именно MiniBatch алгоритмы, потому что они позволяют не рассматривать всю выборку\n",
    "# целиком\n",
    "# Если же мы хотим понять \"тонкую\" структуру каждого кластера, то необходимо брать в рассмотрение\n",
    "# все объекты выборки, и Batch'ами тут уже не обойтись."
   ]
  }
 ],
 "metadata": {
  "anaconda-cloud": {},
  "kernelspec": {
   "display_name": "Python 2",
   "language": "python",
   "name": "python2"
  },
  "language_info": {
   "codemirror_mode": {
    "name": "ipython",
    "version": 2
   },
   "file_extension": ".py",
   "mimetype": "text/x-python",
   "name": "python",
   "nbconvert_exporter": "python",
   "pygments_lexer": "ipython2",
   "version": "2.7.14"
  },
  "nav_menu": {},
  "toc": {
   "navigate_menu": true,
   "number_sections": false,
   "sideBar": true,
   "threshold": 6,
   "toc_cell": false,
   "toc_section_display": "block",
   "toc_window_display": true
  }
 },
 "nbformat": 4,
 "nbformat_minor": 2
}
