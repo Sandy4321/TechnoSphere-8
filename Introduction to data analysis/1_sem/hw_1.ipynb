{
 "cells": [
  {
   "cell_type": "markdown",
   "metadata": {},
   "source": [
    "# Первая часть"
   ]
  },
  {
   "cell_type": "code",
   "execution_count": 48,
   "metadata": {},
   "outputs": [],
   "source": [
    "import json\n",
    "import csv\n",
    "import random\n",
    "class SuperDict():\n",
    "    def __init__(self, name):\n",
    "        self.data={}\n",
    "        if(type(name)==dict):\n",
    "            self.data=dict(name)\n",
    "        elif(name[-4:]=='.csv'):\n",
    "            reader = csv.reader(open(name, 'r'))\n",
    "            for i,row in enumerate(reader):\n",
    "                if(len(row)>2):\n",
    "                    print 'Error in line',i+1\n",
    "                    continue\n",
    "                k,v=row\n",
    "                self.data[k]=v\n",
    "        elif(name[-5:]=='.json'):\n",
    "            with open(name) as f_in:\n",
    "                q=json.load(f_in)\n",
    "                for i in q:\n",
    "                    if(type(i)==list):\n",
    "                        self.data.update(i)\n",
    "                    else:\n",
    "                        self.data=q\n",
    "                        break\n",
    "        else:\n",
    "            print 'Initialization error'\n",
    "    def __getitem__(self, key):\n",
    "        return self.data[key]\n",
    "    def clear(self):\n",
    "        return self.data.clear()\n",
    "    def items(self):\n",
    "        return self.data.items()\n",
    "    def keys(self):\n",
    "        return self.data.keys()\n",
    "    def values(self):\n",
    "        return self.data.values()\n",
    "    def iteritems(self):\n",
    "        return self.data.iteritems()\n",
    "    def iterkeys (self):\n",
    "        return self.data.iterkeys()\n",
    "    def itervalues(self):\n",
    "        return self.data.itervalues()\n",
    "    def __iter__(self):\n",
    "        return iter(self.data)\n",
    "    def __eq__(self,d):\n",
    "        return self.data==d\n",
    "    def __len__(self):\n",
    "        return len(self.data)\n",
    "    def __repr__(self):\n",
    "        return repr(self.data)\n",
    "    def get_random_key(self):\n",
    "        return random.choice(self.data.keys())\n",
    "    def max_key_length(self):\n",
    "        return max(map(len,self.data.keys()))\n",
    "    def get_key_starts_from(self,s):\n",
    "        return [x for x in self.data.keys() if x.startswith(s)]\n",
    "    def to_csv(self,s):\n",
    "        with open(s,'w') as f:\n",
    "            w = csv.DictWriter(f, self.data.keys())\n",
    "            w.writeheader()\n",
    "            w.writerow(self.data)\n",
    "    def to_json(self,s):\n",
    "        with open(s, 'w') as f_out:\n",
    "            f_out.write(json.dumps(self.data,indent=0))\n",
    "    def __add__(self,d):\n",
    "        D=self.data\n",
    "        D.update(d)\n",
    "        return SuperDict(D)"
   ]
  },
  {
   "cell_type": "code",
   "execution_count": 49,
   "metadata": {
    "scrolled": true
   },
   "outputs": [
    {
     "name": "stdout",
     "output_type": "stream",
     "text": [
      "Nikita Kotelevskii\n",
      "[(u'orderID', 42), (u'customerName', u'Nikita Kotelevskii'), (u'orderContents', [{u'productID': 23, u'productName': u'keyboard', u'quantity': 1}, {u'productID': 13, u'productName': u'mouse', u'quantity': 1}]), (u'customerPhoneN', u'555-1234'), (u'orderCompleted', True), (u'alllllo', 123123)]\n",
      "[u'orderID', u'customerName', u'orderContents', u'customerPhoneN', u'orderCompleted', u'alllllo']\n",
      "[42, u'Nikita Kotelevskii', [{u'productID': 23, u'productName': u'keyboard', u'quantity': 1}, {u'productID': 13, u'productName': u'mouse', u'quantity': 1}], u'555-1234', True, 123123]\n",
      "<dictionary-itemiterator object at 0x7f2cd8119628>\n",
      "<dictionary-keyiterator object at 0x7f2cd8119628>\n",
      "<dictionary-valueiterator object at 0x7f2cd8119628>\n",
      "[u'orderID', u'customerName', u'orderContents', u'customerPhoneN', u'orderCompleted', u'alllllo']\n",
      "False False\n",
      "6\n",
      "alllllo\n",
      "14\n"
     ]
    }
   ],
   "source": [
    "d={'aasv':1, 'aaaa':2, 'zzzz':3,'aaaaa':4}\n",
    "a=SuperDict('test.json')\n",
    "print a['customerName']\n",
    "print a.items()\n",
    "print a.keys()\n",
    "print a.values()\n",
    "print a.iteritems()\n",
    "print a.iterkeys()\n",
    "print a.itervalues()\n",
    "print [x for x in a]\n",
    "print d==a,a==d\n",
    "print len(a)\n",
    "print a.get_random_key()\n",
    "print a.max_key_length()"
   ]
  },
  {
   "cell_type": "markdown",
   "metadata": {},
   "source": [
    "# Вторая часть"
   ]
  },
  {
   "cell_type": "code",
   "execution_count": 105,
   "metadata": {},
   "outputs": [],
   "source": [
    "import os\n",
    "def file_tree(path, file_filter=None):\n",
    "    catalog={}\n",
    "    for item in os.listdir(path):\n",
    "        if (os.path.isdir(os.path.join(path,item))):\n",
    "            catalog.update({item:[file_tree(os.path.join(path,item))]})\n",
    "        else:\n",
    "            catalog[os.path.dirname].append(item)\n",
    "    return catalog"
   ]
  },
  {
   "cell_type": "code",
   "execution_count": 111,
   "metadata": {},
   "outputs": [
    {
     "ename": "KeyError",
     "evalue": "<function dirname at 0x7f2ce3cc6578>",
     "output_type": "error",
     "traceback": [
      "\u001b[0;31m---------------------------------------------------------------------------\u001b[0m",
      "\u001b[0;31mKeyError\u001b[0m                                  Traceback (most recent call last)",
      "\u001b[0;32m<ipython-input-111-16e02f046ef7>\u001b[0m in \u001b[0;36m<module>\u001b[0;34m()\u001b[0m\n\u001b[0;32m----> 1\u001b[0;31m \u001b[0mfile_tree\u001b[0m\u001b[0;34m(\u001b[0m\u001b[0mos\u001b[0m\u001b[0;34m.\u001b[0m\u001b[0mcurdir\u001b[0m\u001b[0;34m)\u001b[0m\u001b[0;34m\u001b[0m\u001b[0m\n\u001b[0m",
      "\u001b[0;32m<ipython-input-105-a852c9d4f2a2>\u001b[0m in \u001b[0;36mfile_tree\u001b[0;34m(path, file_filter)\u001b[0m\n\u001b[1;32m      6\u001b[0m             \u001b[0mcatalog\u001b[0m\u001b[0;34m.\u001b[0m\u001b[0mupdate\u001b[0m\u001b[0;34m(\u001b[0m\u001b[0;34m{\u001b[0m\u001b[0mitem\u001b[0m\u001b[0;34m:\u001b[0m\u001b[0;34m[\u001b[0m\u001b[0mfile_tree\u001b[0m\u001b[0;34m(\u001b[0m\u001b[0mos\u001b[0m\u001b[0;34m.\u001b[0m\u001b[0mpath\u001b[0m\u001b[0;34m.\u001b[0m\u001b[0mjoin\u001b[0m\u001b[0;34m(\u001b[0m\u001b[0mpath\u001b[0m\u001b[0;34m,\u001b[0m\u001b[0mitem\u001b[0m\u001b[0;34m)\u001b[0m\u001b[0;34m)\u001b[0m\u001b[0;34m]\u001b[0m\u001b[0;34m}\u001b[0m\u001b[0;34m)\u001b[0m\u001b[0;34m\u001b[0m\u001b[0m\n\u001b[1;32m      7\u001b[0m         \u001b[0;32melse\u001b[0m\u001b[0;34m:\u001b[0m\u001b[0;34m\u001b[0m\u001b[0m\n\u001b[0;32m----> 8\u001b[0;31m             \u001b[0mcatalog\u001b[0m\u001b[0;34m[\u001b[0m\u001b[0mos\u001b[0m\u001b[0;34m.\u001b[0m\u001b[0mpath\u001b[0m\u001b[0;34m.\u001b[0m\u001b[0mdirname\u001b[0m\u001b[0;34m]\u001b[0m\u001b[0;34m.\u001b[0m\u001b[0mappend\u001b[0m\u001b[0;34m(\u001b[0m\u001b[0mitem\u001b[0m\u001b[0;34m)\u001b[0m\u001b[0;34m\u001b[0m\u001b[0m\n\u001b[0m\u001b[1;32m      9\u001b[0m     \u001b[0;32mreturn\u001b[0m \u001b[0mcatalog\u001b[0m\u001b[0;34m\u001b[0m\u001b[0m\n",
      "\u001b[0;31mKeyError\u001b[0m: <function dirname at 0x7f2ce3cc6578>"
     ]
    }
   ],
   "source": [
    "file_tree(os.curdir)"
   ]
  },
  {
   "cell_type": "code",
   "execution_count": 114,
   "metadata": {},
   "outputs": [],
   "source": [
    "def file_tree(PathForBackup):\n",
    "    ListForBackup = []\n",
    "    for file in os.listdir(PathForBackup):\n",
    "        path = os.path.join(PathForBackup, file)\n",
    "        if not os.path.isdir(path):\n",
    "            ListForBackup.append(path)\n",
    "        else:\n",
    "            ListForBackup += file_tree(path)\n",
    "    return ListForBackup"
   ]
  },
  {
   "cell_type": "code",
   "execution_count": 116,
   "metadata": {},
   "outputs": [
    {
     "data": {
      "text/plain": [
       "['./test.json',\n",
       " './new folder/1.txt',\n",
       " './new folder/2.txt',\n",
       " './new folder/named folder/3.txt',\n",
       " './test.csv',\n",
       " './example.json',\n",
       " './.ipynb_checkpoints/01_python_basics-checkpoint.ipynb',\n",
       " './.ipynb_checkpoints/hw_1-checkpoint.ipynb',\n",
       " './test.txt',\n",
       " './example.csv',\n",
       " './tes1t.json',\n",
       " './01_python_basics.ipynb',\n",
       " './hw_1.ipynb']"
      ]
     },
     "execution_count": 116,
     "metadata": {},
     "output_type": "execute_result"
    }
   ],
   "source": [
    "file_tree(os.curdir)"
   ]
  },
  {
   "cell_type": "code",
   "execution_count": 253,
   "metadata": {},
   "outputs": [],
   "source": [
    "def file_tree(path,file_filter=None,s=str()):\n",
    "    if(not os.path.isdir(path)):\n",
    "        print os.path.split(path)[1]\n",
    "        return\n",
    "    only_files = True\n",
    "    for item in os.listdir(path):\n",
    "        x = os.path.join(path, item)\n",
    "        if os.path.isdir(x):\n",
    "            only_files=False\n",
    "            break\n",
    "    if(only_files and file_filter):\n",
    "        for item in os.listdir(path):\n",
    "            if item.endswith(file_filter):\n",
    "                print s+item\n",
    "        return\n",
    "    for item in os.listdir(path):\n",
    "        x = os.path.join(path, item)\n",
    "        if not os.path.isdir(x):\n",
    "            print s+item\n",
    "    for item in os.listdir(path):\n",
    "        x = os.path.join(path, item)\n",
    "        if os.path.isdir(x):\n",
    "            print s+item+':'\n",
    "            return file_tree(x,file_filter,s+'  ')"
   ]
  },
  {
   "cell_type": "code",
   "execution_count": 257,
   "metadata": {},
   "outputs": [
    {
     "name": "stdout",
     "output_type": "stream",
     "text": [
      "test.json\n",
      "test.csv\n",
      "example.json\n",
      "test.txt\n",
      "example.csv\n",
      "tes1t.json\n",
      "01_python_basics.ipynb\n",
      "hw_1.ipynb\n",
      "new folder:\n",
      "  1.txt\n",
      "  2.txt\n",
      "  named folder:\n",
      "    3.txt\n",
      "    ololo:\n",
      "      test.csv\n",
      "      empty.txt\n"
     ]
    }
   ],
   "source": [
    "file_tree('/home/nikita/TechnoSphere/Introduction to Data Analysis/sem1')"
   ]
  },
  {
   "cell_type": "code",
   "execution_count": 239,
   "metadata": {},
   "outputs": [],
   "source": [
    "q=str()"
   ]
  },
  {
   "cell_type": "code",
   "execution_count": 175,
   "metadata": {},
   "outputs": [],
   "source": [
    "q+='qweq'"
   ]
  },
  {
   "cell_type": "code",
   "execution_count": 176,
   "metadata": {},
   "outputs": [],
   "source": [
    "q+='abc'"
   ]
  },
  {
   "cell_type": "code",
   "execution_count": 177,
   "metadata": {},
   "outputs": [
    {
     "data": {
      "text/plain": [
       "'qweqabc'"
      ]
     },
     "execution_count": 177,
     "metadata": {},
     "output_type": "execute_result"
    }
   ],
   "source": [
    "q"
   ]
  },
  {
   "cell_type": "code",
   "execution_count": 233,
   "metadata": {},
   "outputs": [
    {
     "data": {
      "text/plain": [
       "True"
      ]
     },
     "execution_count": 233,
     "metadata": {},
     "output_type": "execute_result"
    }
   ],
   "source": [
    "sorted(map(os.path.isdir,os.listdir('/home/nikita/TechnoSphere/Introduction to Data Analysis/sem1')))[-1]"
   ]
  },
  {
   "cell_type": "code",
   "execution_count": 250,
   "metadata": {},
   "outputs": [
    {
     "data": {
      "text/plain": [
       "[False, False, False]"
      ]
     },
     "execution_count": 250,
     "metadata": {},
     "output_type": "execute_result"
    }
   ],
   "source": [
    "sorted(map(os.path.isdir,os.listdir('/home/nikita/TechnoSphere/Introduction to Data Analysis/sem1/new folder/')))"
   ]
  },
  {
   "cell_type": "code",
   "execution_count": 251,
   "metadata": {},
   "outputs": [
    {
     "data": {
      "text/plain": [
       "['1.txt', '2.txt', 'named folder']"
      ]
     },
     "execution_count": 251,
     "metadata": {},
     "output_type": "execute_result"
    }
   ],
   "source": [
    "os.listdir('/home/nikita/TechnoSphere/Introduction to Data Analysis/sem1/new folder')"
   ]
  },
  {
   "cell_type": "code",
   "execution_count": null,
   "metadata": {},
   "outputs": [],
   "source": [
    "qq='/home/nikita/TechnoSphere/Introduction to Data Analysis/sem1/new folder'"
   ]
  }
 ],
 "metadata": {
  "kernelspec": {
   "display_name": "Python 2",
   "language": "python",
   "name": "python2"
  },
  "language_info": {
   "codemirror_mode": {
    "name": "ipython",
    "version": 2
   },
   "file_extension": ".py",
   "mimetype": "text/x-python",
   "name": "python",
   "nbconvert_exporter": "python",
   "pygments_lexer": "ipython2",
   "version": "2.7.14"
  }
 },
 "nbformat": 4,
 "nbformat_minor": 2
}
