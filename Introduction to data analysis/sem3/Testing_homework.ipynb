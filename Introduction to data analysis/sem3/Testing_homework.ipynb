{
 "cells": [
  {
   "cell_type": "code",
   "execution_count": 1,
   "metadata": {},
   "outputs": [],
   "source": [
    "# python 2\n",
    "import cPickle as pickle\n",
    "#import pickle\n",
    "import numpy as np\n",
    "\n",
    "%load_ext autoreload\n",
    "%autoreload 2"
   ]
  },
  {
   "cell_type": "markdown",
   "metadata": {
    "collapsed": true
   },
   "source": [
    "## Compile cython functions"
   ]
  },
  {
   "cell_type": "code",
   "execution_count": 2,
   "metadata": {},
   "outputs": [],
   "source": [
    "!rm cython_functions.c\n",
    "!rm cython_functions.so\n",
    "!rm -r build"
   ]
  },
  {
   "cell_type": "code",
   "execution_count": 3,
   "metadata": {
    "scrolled": true
   },
   "outputs": [
    {
     "name": "stdout",
     "output_type": "stream",
     "text": [
      "running build_ext\n",
      "cythoning cython_functions.pyx to cython_functions.c\n",
      "building 'cython_functions' extension\n",
      "creating build\n",
      "creating build/temp.linux-x86_64-2.7\n",
      "gcc -pthread -B /home/nikita/anaconda2/compiler_compat -Wl,--sysroot=/ -fno-strict-aliasing -g -O2 -DNDEBUG -g -fwrapv -O3 -Wall -Wstrict-prototypes -fPIC -I/home/nikita/anaconda2/lib/python2.7/site-packages/numpy/core/include -I/home/nikita/anaconda2/include/python2.7 -c cython_functions.c -o build/temp.linux-x86_64-2.7/cython_functions.o\n",
      "In file included from \u001b[01m\u001b[K/home/nikita/anaconda2/lib/python2.7/site-packages/numpy/core/include/numpy/ndarraytypes.h:1816:0\u001b[m\u001b[K,\n",
      "                 from \u001b[01m\u001b[K/home/nikita/anaconda2/lib/python2.7/site-packages/numpy/core/include/numpy/ndarrayobject.h:18\u001b[m\u001b[K,\n",
      "                 from \u001b[01m\u001b[K/home/nikita/anaconda2/lib/python2.7/site-packages/numpy/core/include/numpy/arrayobject.h:4\u001b[m\u001b[K,\n",
      "                 from \u001b[01m\u001b[Kcython_functions.c:525\u001b[m\u001b[K:\n",
      "\u001b[01m\u001b[K/home/nikita/anaconda2/lib/python2.7/site-packages/numpy/core/include/numpy/npy_1_7_deprecated_api.h:15:2:\u001b[m\u001b[K \u001b[01;35m\u001b[Kwarning: \u001b[m\u001b[K#warning \"Using deprecated NumPy API, disable it by \" \"#defining NPY_NO_DEPRECATED_API NPY_1_7_API_VERSION\" [-Wcpp]\n",
      " #warning \"Using deprecated NumPy API, disable it by \" \\\n",
      "\u001b[01;32m\u001b[K  ^\u001b[m\u001b[K\n",
      "creating build/lib.linux-x86_64-2.7\n",
      "gcc -pthread -shared -B /home/nikita/anaconda2/compiler_compat -L/home/nikita/anaconda2/lib -Wl,-rpath=/home/nikita/anaconda2/lib -Wl,--no-as-needed -Wl,--sysroot=/ build/temp.linux-x86_64-2.7/cython_functions.o -L/home/nikita/anaconda2/lib -lpython2.7 -o build/lib.linux-x86_64-2.7/cython_functions.so\n",
      "copying build/lib.linux-x86_64-2.7/cython_functions.so -> \n"
     ]
    }
   ],
   "source": [
    "!python cython_setup.py build_ext --inplace"
   ]
  },
  {
   "cell_type": "markdown",
   "metadata": {},
   "source": [
    "## Matrix multipliaction"
   ]
  },
  {
   "cell_type": "code",
   "execution_count": 14,
   "metadata": {},
   "outputs": [],
   "source": [
    "# for python3 add . before filename\n",
    "# from .numpy_functions import matrix_multiply\n",
    "\n",
    "# change filename to check other functions !!!\n",
    "from numpy_functions import matrix_multiply\n",
    "#from numba_functions import matrix_multiply\n",
    "#from cython_functions import matrix_multiply"
   ]
  },
  {
   "cell_type": "code",
   "execution_count": 15,
   "metadata": {},
   "outputs": [],
   "source": [
    "# python 3\n",
    "#with open('matrix_mult_tests.pickle', 'rb') as f:\n",
    "#    testing_data = pickle.load(f, encoding='bytes')\n",
    "\n",
    "# python 2\n",
    "with open('matrix_mult_tests.pickle') as f:\n",
    "    testing_data = pickle.load(f)"
   ]
  },
  {
   "cell_type": "markdown",
   "metadata": {},
   "source": [
    "#### Correctness test"
   ]
  },
  {
   "cell_type": "code",
   "execution_count": 16,
   "metadata": {},
   "outputs": [],
   "source": [
    "for i, (X, Y, out) in enumerate(testing_data):\n",
    "    your_out = matrix_multiply(X, Y)\n",
    "    assert np.allclose(your_out, out), \\\n",
    "           \"\"\"current test: {}\n",
    "                your shape: {}, shape should be: {}\n",
    "                mean absolute diff: {}\n",
    "           \"\"\".format(i, your_out.shape,out.shape,\n",
    "                      np.mean(np.abs(your_out - out)))"
   ]
  },
  {
   "cell_type": "markdown",
   "metadata": {},
   "source": [
    "#### Speed test"
   ]
  },
  {
   "cell_type": "code",
   "execution_count": 17,
   "metadata": {},
   "outputs": [],
   "source": [
    "X = np.random.rand(1000, 100)\n",
    "Y = np.random.rand(100, 500)"
   ]
  },
  {
   "cell_type": "code",
   "execution_count": 18,
   "metadata": {},
   "outputs": [
    {
     "name": "stdout",
     "output_type": "stream",
     "text": [
      "CPU times: user 2.08 ms, sys: 7.51 ms, total: 9.59 ms\n",
      "Wall time: 5.96 ms\n"
     ]
    }
   ],
   "source": [
    "%%time\n",
    "# on my pc numba is 10-20 times slower than numpy\n",
    "# and cython is 2-3 times slower than numba\n",
    "_ = matrix_multiply(X, Y)"
   ]
  },
  {
   "cell_type": "markdown",
   "metadata": {},
   "source": [
    "## Row mean"
   ]
  },
  {
   "cell_type": "code",
   "execution_count": 102,
   "metadata": {},
   "outputs": [],
   "source": [
    "# for python3 add . before filename\n",
    "# from .numpy_functions import matrix_rowmean\n",
    "\n",
    "# change filename to check other functions !!!\n",
    "#from numpy_functions import matrix_rowmean\n",
    "#from numba_functions import matrix_rowmean\n",
    "from cython_functions import matrix_rowmean"
   ]
  },
  {
   "cell_type": "markdown",
   "metadata": {},
   "source": [
    "### Correctness test"
   ]
  },
  {
   "cell_type": "code",
   "execution_count": 103,
   "metadata": {},
   "outputs": [],
   "source": [
    "# python 3\n",
    "#with open('row_mean_tests.pickle', 'rb') as f:\n",
    "#    testing_data = pickle.load(f, encoding='bytes')\n",
    "\n",
    "\n",
    "# python 2\n",
    "with open('row_mean_tests.pickle') as f:\n",
    "    testing_data = pickle.load(f)"
   ]
  },
  {
   "cell_type": "code",
   "execution_count": 104,
   "metadata": {
    "scrolled": true
   },
   "outputs": [],
   "source": [
    "for i, (X, weights, out) in enumerate(testing_data):\n",
    "    your_out = matrix_rowmean(X, weights)\n",
    "    assert np.allclose(your_out, out), \\\n",
    "           \"\"\"current test: {}\n",
    "                your shape: {}, shape should be: {}\n",
    "                mean absolute diff: {}\n",
    "           \"\"\".format(i, your_out.shape,out.shape,\n",
    "                      np.mean(np.abs(your_out - out)))"
   ]
  },
  {
   "cell_type": "markdown",
   "metadata": {},
   "source": [
    "### Speed test"
   ]
  },
  {
   "cell_type": "code",
   "execution_count": 105,
   "metadata": {},
   "outputs": [],
   "source": [
    "X = np.random.rand(1000, 100)\n",
    "weights = np.random.rand(100)"
   ]
  },
  {
   "cell_type": "code",
   "execution_count": 106,
   "metadata": {},
   "outputs": [
    {
     "name": "stdout",
     "output_type": "stream",
     "text": [
      "CPU times: user 13.1 ms, sys: 207 µs, total: 13.3 ms\n",
      "Wall time: 13.2 ms\n"
     ]
    }
   ],
   "source": [
    "%%time\n",
    "_ = matrix_rowmean(X, weights)"
   ]
  },
  {
   "cell_type": "markdown",
   "metadata": {},
   "source": [
    "## Cosine similarity"
   ]
  },
  {
   "cell_type": "code",
   "execution_count": 112,
   "metadata": {},
   "outputs": [],
   "source": [
    "# for python3 add . before filename\n",
    "# from .numpy_functions import cosine_similarity\n",
    "\n",
    "# change filename to check other functions !!!\n",
    "#from numpy_functions import cosine_similarity\n",
    "from numba_functions import cosine_similarity\n",
    "#from cython_functions import cosine_similarity"
   ]
  },
  {
   "cell_type": "code",
   "execution_count": 113,
   "metadata": {},
   "outputs": [],
   "source": [
    "# python 3\n",
    "#with open('cosine_similarity_tests.pickle', 'rb') as f:\n",
    "#    testing_data = pickle.load(f, encoding='bytes')\n",
    "\n",
    "\n",
    "# python 2\n",
    "with open('cosine_similarity_tests.pickle') as f:\n",
    "    testing_data = pickle.load(f)"
   ]
  },
  {
   "cell_type": "markdown",
   "metadata": {},
   "source": [
    "### Correctness test"
   ]
  },
  {
   "cell_type": "code",
   "execution_count": 114,
   "metadata": {},
   "outputs": [],
   "source": [
    "for i, (X, with_mean, with_std, top_n, out) in enumerate(testing_data):\n",
    "    your_out = cosine_similarity(X, top_n, with_mean, with_std)\n",
    "    assert np.allclose(your_out, out), \\\n",
    "           \"\"\"current test: {}\n",
    "                your shape: {}, shape should be: {}\n",
    "                mean absolute diff: {}\n",
    "           \"\"\".format(i, your_out.shape,out.shape,\n",
    "                      np.mean(np.abs(your_out - out)))"
   ]
  },
  {
   "cell_type": "markdown",
   "metadata": {},
   "source": [
    "### Speed test"
   ]
  },
  {
   "cell_type": "code",
   "execution_count": 115,
   "metadata": {},
   "outputs": [],
   "source": [
    "X = np.random.rand(1000, 10000)"
   ]
  },
  {
   "cell_type": "code",
   "execution_count": null,
   "metadata": {},
   "outputs": [],
   "source": [
    "%%time\n",
    "_ = cosine_similarity(X, True, True, 100)"
   ]
  },
  {
   "cell_type": "code",
   "execution_count": null,
   "metadata": {
    "collapsed": true
   },
   "outputs": [],
   "source": []
  }
 ],
 "metadata": {
  "kernelspec": {
   "display_name": "Python 2",
   "language": "python",
   "name": "python2"
  },
  "language_info": {
   "codemirror_mode": {
    "name": "ipython",
    "version": 2
   },
   "file_extension": ".py",
   "mimetype": "text/x-python",
   "name": "python",
   "nbconvert_exporter": "python",
   "pygments_lexer": "ipython2",
   "version": "2.7.14"
  }
 },
 "nbformat": 4,
 "nbformat_minor": 2
}
