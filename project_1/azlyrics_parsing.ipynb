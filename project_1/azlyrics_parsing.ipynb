{
 "cells": [
  {
   "cell_type": "code",
   "execution_count": 8,
   "metadata": {},
   "outputs": [],
   "source": [
    "import requests      # Библиотека для отправки запросов\n",
    "import numpy as np   # Библиотека для матриц, векторов и линала\n",
    "import pandas as pd  # Библиотека для табличек\n",
    "import time\n",
    "from fake_useragent import UserAgent\n",
    "from bs4 import BeautifulSoup"
   ]
  },
  {
   "cell_type": "markdown",
   "metadata": {},
   "source": [
    "# Получаем ссылки на каждую букву алфавита"
   ]
  },
  {
   "cell_type": "code",
   "execution_count": null,
   "metadata": {},
   "outputs": [],
   "source": [
    "page_link = 'https://www.azlyrics.com/'\n",
    "response = requests.get(page_link, headers={'User-Agent': UserAgent().chrome})\n",
    "html = response.content\n",
    "soup = BeautifulSoup(html,'lxml')\n",
    "objs = soup.findAll('a', attrs = {'class':'btn btn-menu'})\n",
    "links=[str(link.attrs['href'])[2:] for link in objs]\n",
    "# в итоге в links ссылки на каждую букву"
   ]
  },
  {
   "cell_type": "markdown",
   "metadata": {},
   "source": [
    "# Получаем ссылки каждую группу (важно, что могут быть дубликаты)"
   ]
  },
  {
   "cell_type": "code",
   "execution_count": null,
   "metadata": {},
   "outputs": [],
   "source": [
    "total_band_links=[]\n",
    "for i,letter_page in enumerate(links):\n",
    "    if(i%1000==0):\n",
    "        print i\n",
    "    try:\n",
    "        response = requests.get(page_link, headers={'User-Agent': UserAgent().chrome})\n",
    "    except:\n",
    "        print i,'Сейчас исключение в request'е, переподключай интернет'\n",
    "        time.sleep(30)\n",
    "        response = requests.get(page_link, headers={'User-Agent': UserAgent().chrome})\n",
    "    html = response.content\n",
    "    soup = BeautifulSoup(html,'lxml')\n",
    "    objs = soup.findAll('a')\n",
    "    band_links=[str(link.attrs['href']) for link in objs]\n",
    "    for j,band_link in enumerate(band_links):\n",
    "        band_links[j]='https://www.azlyrics.com/'+band_link\n",
    "    band_links=band_links[28:]\n",
    "    band_links=band_links[:-7]\n",
    "    total_band_links.append(band_links)"
   ]
  },
  {
   "cell_type": "code",
   "execution_count": null,
   "metadata": {},
   "outputs": [],
   "source": [
    "flat_total_band_links = [item for sublist in total_band_links for item in sublist] #получаем 1d list"
   ]
  },
  {
   "cell_type": "code",
   "execution_count": null,
   "metadata": {},
   "outputs": [],
   "source": [
    "np_total_band_links=np.array(flat_total_band_links)\n",
    "unique_links=np.unique(np_total_band_links) #получаем уникальные"
   ]
  },
  {
   "cell_type": "code",
   "execution_count": null,
   "metadata": {},
   "outputs": [],
   "source": [
    "np.savetxt(\"band_links.txt\", unique_links,fmt='%s') #сохраняем ссылки на каждую группу."
   ]
  },
  {
   "cell_type": "code",
   "execution_count": null,
   "metadata": {},
   "outputs": [],
   "source": []
  },
  {
   "cell_type": "markdown",
   "metadata": {},
   "source": [
    "# Теперь получим ссылки на каждую песню"
   ]
  },
  {
   "cell_type": "code",
   "execution_count": 3,
   "metadata": {},
   "outputs": [],
   "source": [
    "unique_links=np.loadtxt('band_links.txt',dtype='str')"
   ]
  },
  {
   "cell_type": "code",
   "execution_count": null,
   "metadata": {},
   "outputs": [],
   "source": [
    "total_song_links_list=[]\n",
    "for i,page_link in enumerate(unique_links):\n",
    "    if(i%1000==0):\n",
    "        print i\n",
    "    try:\n",
    "        response = requests.get(page_link, headers={'User-Agent': UserAgent().chrome})\n",
    "    except:\n",
    "        print i,'Сейчас исключение в request'е, переподключай интернет'\n",
    "        time.sleep(30)\n",
    "        response = requests.get(page_link, headers={'User-Agent': UserAgent().chrome})\n",
    "    html = response.content\n",
    "    soup = BeautifulSoup(html,'lxml')\n",
    "    obj = soup.find('div',attrs={'id':'listAlbum'})\n",
    "    try:\n",
    "        objs = obj.findAll('a')\n",
    "    except:\n",
    "        print page_link # здесь оказываются те, у кого нет альбомов, там другая разметка страницы\n",
    "        continue\n",
    "    help_list=[]\n",
    "    for item in objs:\n",
    "        if (not type(item.attrs.get('href'))==type(None)):\n",
    "            help_list.append('https://www.azlyrics.com/'+str(item.attrs.get('href'))[3:])\n",
    "    total_song_links_list.append(help_list)"
   ]
  },
  {
   "cell_type": "code",
   "execution_count": null,
   "metadata": {},
   "outputs": [],
   "source": [
    "flat_total_song_links_list = [item for sublist in total_song_links_list for item in sublist] #получаем 1d list\n",
    "np_song_links=np.array(flat_total_song_links_list)"
   ]
  },
  {
   "cell_type": "code",
   "execution_count": 6,
   "metadata": {},
   "outputs": [
    {
     "ename": "NameError",
     "evalue": "name 'np_song_links' is not defined",
     "output_type": "error",
     "traceback": [
      "\u001b[0;31m---------------------------------------------------------------------------\u001b[0m",
      "\u001b[0;31mNameError\u001b[0m                                 Traceback (most recent call last)",
      "\u001b[0;32m<ipython-input-6-7744d0afdd8e>\u001b[0m in \u001b[0;36m<module>\u001b[0;34m()\u001b[0m\n\u001b[0;32m----> 1\u001b[0;31m \u001b[0mnp\u001b[0m\u001b[0;34m.\u001b[0m\u001b[0msavetxt\u001b[0m\u001b[0;34m(\u001b[0m\u001b[0;34m\"song_links.txt\"\u001b[0m\u001b[0;34m,\u001b[0m \u001b[0mnp_song_links\u001b[0m\u001b[0;34m,\u001b[0m\u001b[0mfmt\u001b[0m\u001b[0;34m=\u001b[0m\u001b[0;34m'%s'\u001b[0m\u001b[0;34m)\u001b[0m \u001b[0;31m#сохраняем ссылки на каждую песню.\u001b[0m\u001b[0;34m\u001b[0m\u001b[0m\n\u001b[0m",
      "\u001b[0;31mNameError\u001b[0m: name 'np_song_links' is not defined"
     ]
    }
   ],
   "source": [
    "np.savetxt(\"song_links.txt\", np_song_links,fmt='%s') #сохраняем ссылки на каждую песню."
   ]
  },
  {
   "cell_type": "markdown",
   "metadata": {},
   "source": [
    "# Теперь непосредственно получаем текст песни, Название, Исполнителя, год и Альбом"
   ]
  },
  {
   "cell_type": "code",
   "execution_count": 17,
   "metadata": {},
   "outputs": [],
   "source": [
    "df=pd.DataFrame(columns=['Artist','Song_name','Album','Year','Text'])"
   ]
  },
  {
   "cell_type": "code",
   "execution_count": 18,
   "metadata": {},
   "outputs": [],
   "source": [
    "song_links=np.loadtxt('song_links.txt',dtype='str')"
   ]
  },
  {
   "cell_type": "code",
   "execution_count": 19,
   "metadata": {},
   "outputs": [
    {
     "name": "stdout",
     "output_type": "stream",
     "text": [
      "0\n"
     ]
    }
   ],
   "source": [
    "for i,page_link in enumerate(song_links):\n",
    "    if(i%1000==0):\n",
    "        print i\n",
    "    try:\n",
    "        response = requests.get(page_link, headers={'User-Agent': UserAgent().chrome})\n",
    "    except:\n",
    "        print i,'Сейчас исключение в requestе, переподключай интернет'\n",
    "        time.sleep(30)\n",
    "        response = requests.get(page_link, headers={'User-Agent': UserAgent().chrome})\n",
    "    html = response.content\n",
    "    soup = BeautifulSoup(html,'lxml')\n",
    "    obj=soup.find('div',{'class':'col-xs-12 col-lg-8 text-center'})\n",
    "    band_song = obj.findAll('b')\n",
    "    band_name=str(band_song[0].text)[:-7]\n",
    "    song_name=str(band_song[1].text)[1:-1]\n",
    "    obj=soup.find('div',{'class':'col-xs-12 col-lg-8 text-center'})\n",
    "    song_text=str(obj.findAll('div')[6].text).replace('\\n' ,' ').replace('\\42' ,'').replace('\\r' ,'')\n",
    "    alb=soup.find('a',{'data-toggle':'collapse'})\n",
    "    if(type(alb)==type(None)):\n",
    "        alb_name=np.nan\n",
    "        year=np.nan\n",
    "    else:\n",
    "        alb_name=str(alb.text)[1:-8]\n",
    "        year=str(alb.text)[-5:-1]\n",
    "    data_row = {\"Artist\":band_name, \"Song_name\":song_name,\"Album\":alb_name, \"Year\":year,\"Text\":song_text}\n",
    "    df = df.append(data_row, ignore_index=True)"
   ]
  },
  {
   "cell_type": "code",
   "execution_count": 20,
   "metadata": {},
   "outputs": [
    {
     "data": {
      "text/html": [
       "<div>\n",
       "<style scoped>\n",
       "    .dataframe tbody tr th:only-of-type {\n",
       "        vertical-align: middle;\n",
       "    }\n",
       "\n",
       "    .dataframe tbody tr th {\n",
       "        vertical-align: top;\n",
       "    }\n",
       "\n",
       "    .dataframe thead th {\n",
       "        text-align: right;\n",
       "    }\n",
       "</style>\n",
       "<table border=\"1\" class=\"dataframe\">\n",
       "  <thead>\n",
       "    <tr style=\"text-align: right;\">\n",
       "      <th></th>\n",
       "      <th>Artist</th>\n",
       "      <th>Song_name</th>\n",
       "      <th>Album</th>\n",
       "      <th>Year</th>\n",
       "      <th>Text</th>\n",
       "    </tr>\n",
       "  </thead>\n",
       "  <tbody>\n",
       "    <tr>\n",
       "      <th>0</th>\n",
       "      <td>Mac Lethal</td>\n",
       "      <td>Mermaid Pornography</td>\n",
       "      <td>Men Are From Mars, Porn Stars Are From Earth</td>\n",
       "      <td>2002</td>\n",
       "      <td>Land mines wheel chairs toilet snakes I'm ro...</td>\n",
       "    </tr>\n",
       "    <tr>\n",
       "      <th>1</th>\n",
       "      <td>Hopsin, Roscoe Dash, Machine Gun Kelly, Future...</td>\n",
       "      <td>XXL Freshmen 2012 Cypher - Part 1</td>\n",
       "      <td>NaN</td>\n",
       "      <td>NaN</td>\n",
       "      <td>[Hopsin:] Welcome to the Ill Mind of Hopsin,...</td>\n",
       "    </tr>\n",
       "    <tr>\n",
       "      <th>2</th>\n",
       "      <td>XXXTENTACION</td>\n",
       "      <td>HOPE</td>\n",
       "      <td>?</td>\n",
       "      <td>2018</td>\n",
       "      <td>Yeah Rest in peace to all the kids that lost...</td>\n",
       "    </tr>\n",
       "    <tr>\n",
       "      <th>3</th>\n",
       "      <td>Pia Mia</td>\n",
       "      <td>Hold On We're Going Home</td>\n",
       "      <td>The Gift</td>\n",
       "      <td>2013</td>\n",
       "      <td>[Verse 1:] I got my eyes on you, you're ever...</td>\n",
       "    </tr>\n",
       "    <tr>\n",
       "      <th>4</th>\n",
       "      <td>The Yardbirds</td>\n",
       "      <td>For Your Love</td>\n",
       "      <td>For Your Love</td>\n",
       "      <td>1965</td>\n",
       "      <td>(For your love) (For your love) (For your lo...</td>\n",
       "    </tr>\n",
       "  </tbody>\n",
       "</table>\n",
       "</div>"
      ],
      "text/plain": [
       "                                              Artist  \\\n",
       "0                                         Mac Lethal   \n",
       "1  Hopsin, Roscoe Dash, Machine Gun Kelly, Future...   \n",
       "2                                       XXXTENTACION   \n",
       "3                                            Pia Mia   \n",
       "4                                      The Yardbirds   \n",
       "\n",
       "                           Song_name  \\\n",
       "0                Mermaid Pornography   \n",
       "1  XXL Freshmen 2012 Cypher - Part 1   \n",
       "2                               HOPE   \n",
       "3           Hold On We're Going Home   \n",
       "4                      For Your Love   \n",
       "\n",
       "                                          Album  Year  \\\n",
       "0  Men Are From Mars, Porn Stars Are From Earth  2002   \n",
       "1                                           NaN   NaN   \n",
       "2                                             ?  2018   \n",
       "3                                      The Gift  2013   \n",
       "4                                 For Your Love  1965   \n",
       "\n",
       "                                                Text  \n",
       "0    Land mines wheel chairs toilet snakes I'm ro...  \n",
       "1    [Hopsin:] Welcome to the Ill Mind of Hopsin,...  \n",
       "2    Yeah Rest in peace to all the kids that lost...  \n",
       "3    [Verse 1:] I got my eyes on you, you're ever...  \n",
       "4    (For your love) (For your love) (For your lo...  "
      ]
     },
     "execution_count": 20,
     "metadata": {},
     "output_type": "execute_result"
    }
   ],
   "source": [
    "df"
   ]
  },
  {
   "cell_type": "code",
   "execution_count": null,
   "metadata": {},
   "outputs": [],
   "source": []
  }
 ],
 "metadata": {
  "kernelspec": {
   "display_name": "Python 2",
   "language": "python",
   "name": "python2"
  },
  "language_info": {
   "codemirror_mode": {
    "name": "ipython",
    "version": 2
   },
   "file_extension": ".py",
   "mimetype": "text/x-python",
   "name": "python",
   "nbconvert_exporter": "python",
   "pygments_lexer": "ipython2",
   "version": "2.7.14"
  }
 },
 "nbformat": 4,
 "nbformat_minor": 2
}
