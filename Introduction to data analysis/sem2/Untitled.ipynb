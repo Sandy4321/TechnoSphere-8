{
 "cells": [
  {
   "cell_type": "markdown",
   "metadata": {},
   "source": [
    "# Задачки\n",
    "\n",
    "- Создать \"шахматную доску\" на numpy:\n",
    "\n",
    "```1 0 1 0 1\n",
    "0 1 0 1 0\n",
    "1 0 1 0 1\n",
    "0 1 0 1 0\n",
    "1 0 1 0 1```\n",
    "\n",
    "- Создать случайный вектор и занулить три самых больших по модулю значения\n",
    "\n",
    "- Диагональная матрица с квадратами натуральных чисел\n",
    "\n",
    "- Змейка \n",
    "\n",
    "```[[ 1  6 11 16 21]\n",
    " [ 2  7 12 17 22]\n",
    " [ 3  8 13 18 23]\n",
    " [ 4  9 14 19 24]\n",
    " [ 5 10 15 20 25]]```\n",
    " \n",
    "- Евклидово расстояние между вектором и всеми строчками матрицы\n",
    "\n",
    "- Косинусное расстояние между вектором и всеми строчками матрицы. Косинусное расстояние для векторов\n",
    " "
   ]
  },
  {
   "cell_type": "code",
   "execution_count": 1,
   "metadata": {},
   "outputs": [],
   "source": [
    "import numpy as np"
   ]
  },
  {
   "cell_type": "markdown",
   "metadata": {},
   "source": [
    "# Первая"
   ]
  },
  {
   "cell_type": "code",
   "execution_count": 226,
   "metadata": {},
   "outputs": [
    {
     "name": "stdout",
     "output_type": "stream",
     "text": [
      "[[1 0 1 0 1 0 1 0]\n",
      " [0 1 0 1 0 1 0 1]\n",
      " [1 0 1 0 1 0 1 0]\n",
      " [0 1 0 1 0 1 0 1]\n",
      " [1 0 1 0 1 0 1 0]\n",
      " [0 1 0 1 0 1 0 1]\n",
      " [1 0 1 0 1 0 1 0]\n",
      " [0 1 0 1 0 1 0 1]]\n"
     ]
    }
   ],
   "source": [
    "A=np.zeros((8,8),dtype=np.int16)\n",
    "A[::2,::2]=1\n",
    "A[1::2,1::2]=1\n",
    "print(A)"
   ]
  },
  {
   "cell_type": "markdown",
   "metadata": {},
   "source": [
    "# Вторая"
   ]
  },
  {
   "cell_type": "code",
   "execution_count": 227,
   "metadata": {},
   "outputs": [
    {
     "name": "stdout",
     "output_type": "stream",
     "text": [
      "[0.88781931 0.25829136 0.51638453 0.02768858 0.90422943 0.46691719\n",
      " 0.26038847 0.8747005  0.2750904  0.83963123]\n",
      "[0.         0.25829136 0.51638453 0.02768858 0.         0.46691719\n",
      " 0.26038847 0.         0.2750904  0.83963123]\n"
     ]
    }
   ],
   "source": [
    "A=np.random.rand(10)\n",
    "print A\n",
    "A[A.argsort()[-3:]]=0\n",
    "print A"
   ]
  },
  {
   "cell_type": "markdown",
   "metadata": {},
   "source": [
    "# Третья"
   ]
  },
  {
   "cell_type": "code",
   "execution_count": 228,
   "metadata": {},
   "outputs": [
    {
     "data": {
      "text/plain": [
       "array([[ 1,  0,  0,  0,  0,  0,  0],\n",
       "       [ 0,  4,  0,  0,  0,  0,  0],\n",
       "       [ 0,  0,  9,  0,  0,  0,  0],\n",
       "       [ 0,  0,  0, 16,  0,  0,  0],\n",
       "       [ 0,  0,  0,  0, 25,  0,  0],\n",
       "       [ 0,  0,  0,  0,  0, 36,  0],\n",
       "       [ 0,  0,  0,  0,  0,  0, 49]])"
      ]
     },
     "execution_count": 228,
     "metadata": {},
     "output_type": "execute_result"
    }
   ],
   "source": [
    "A=np.diag(np.arange(1,8)**2)\n",
    "A"
   ]
  },
  {
   "cell_type": "markdown",
   "metadata": {},
   "source": [
    "# Четвертая"
   ]
  },
  {
   "cell_type": "code",
   "execution_count": 229,
   "metadata": {},
   "outputs": [
    {
     "data": {
      "text/plain": [
       "array([[ 1,  6, 11, 16, 21],\n",
       "       [ 2,  7, 12, 17, 22],\n",
       "       [ 3,  8, 13, 18, 23],\n",
       "       [ 4,  9, 14, 19, 24],\n",
       "       [ 5, 10, 15, 20, 25]])"
      ]
     },
     "execution_count": 229,
     "metadata": {},
     "output_type": "execute_result"
    }
   ],
   "source": [
    "A=np.reshape(np.arange(1,26),(5,5)).T\n",
    "A"
   ]
  },
  {
   "cell_type": "markdown",
   "metadata": {},
   "source": [
    "# Пятая"
   ]
  },
  {
   "cell_type": "code",
   "execution_count": 230,
   "metadata": {},
   "outputs": [
    {
     "data": {
      "text/plain": [
       "array([ 93.00537619, 117.260394  , 125.10795338, 131.98105925,\n",
       "       121.04131526])"
      ]
     },
     "execution_count": 230,
     "metadata": {},
     "output_type": "execute_result"
    }
   ],
   "source": [
    "A=np.random.randint(0,100,size=(5,5))\n",
    "B=np.random.randint(0,100,size=(5,1))\n",
    "np.linalg.norm(A-B.T,axis=1,ord=2)"
   ]
  },
  {
   "cell_type": "markdown",
   "metadata": {},
   "source": [
    "# Шестая"
   ]
  },
  {
   "cell_type": "code",
   "execution_count": 231,
   "metadata": {},
   "outputs": [
    {
     "data": {
      "text/plain": [
       "array([0.21619823, 0.2493666 , 0.13970459, 0.44502497, 0.27107859])"
      ]
     },
     "execution_count": 231,
     "metadata": {},
     "output_type": "execute_result"
    }
   ],
   "source": [
    "A=np.random.randint(0,100,size=(5,5))\n",
    "B=np.random.randint(0,100,size=(5,1))\n",
    "#if A is a matrix\n",
    "np.diagonal(1.0 - np.dot(A, B)/((np.linalg.norm(A,axis=1,ord=2) * np.linalg.norm(B,axis=0,ord=2))))\n",
    "#if A is a vector\n",
    "\n",
    "#np.diagonal(1.0 - np.dot(A.T, B)/((np.linalg.norm(A.T,axis=1,ord=2) * np.linalg.norm(B,axis=0,ord=2))))"
   ]
  }
 ],
 "metadata": {
  "kernelspec": {
   "display_name": "Python 2",
   "language": "python",
   "name": "python2"
  },
  "language_info": {
   "codemirror_mode": {
    "name": "ipython",
    "version": 2
   },
   "file_extension": ".py",
   "mimetype": "text/x-python",
   "name": "python",
   "nbconvert_exporter": "python",
   "pygments_lexer": "ipython2",
   "version": "2.7.14"
  }
 },
 "nbformat": 4,
 "nbformat_minor": 2
}
